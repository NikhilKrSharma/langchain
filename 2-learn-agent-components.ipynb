{
 "cells": [
  {
   "cell_type": "markdown",
   "id": "91c8aa6e",
   "metadata": {},
   "source": [
    "### Agent\n",
    "\n",
    "An AI agent is an LLM-powered system that can autonomously think, decide and take actions using external tools or APIs to achieve a goal.\n",
    "\n",
    "### Tool\n",
    "\n",
    "A tool is just a python function (API) that is packaged in a way that the LLM can understand and call when needed."
   ]
  },
  {
   "cell_type": "code",
   "execution_count": null,
   "id": "57c58aa7",
   "metadata": {},
   "outputs": [
    {
     "name": "stdout",
     "output_type": "stream",
     "text": [
      "Loaded Environment Variables:\n",
      "- OPENAI_API_KEY: sk-proj-...4bIA\n",
      "- HUGGINGFACE_TOKEN: hf_kVKaN...KHxS\n"
     ]
    }
   ],
   "source": [
    "import os\n",
    "import sys\n",
    "\n",
    "from dotenv import load_dotenv\n",
    "load_dotenv()\n",
    "\n",
    "os.environ['HF_HOME']=\"/Users/nikhilsharma/Desktop/hf-cache\"\n",
    "# os.environ['HF_HOME']=\"/Users/nikhil20.sharma/Desktop/hf-cache\"\n",
    "\n",
    "# Print all environment variables loaded from .env\n",
    "print(\"Loaded Environment Variables:\")\n",
    "for key, value in os.environ.items():\n",
    "    if key in ['OPENAI_API_KEY', 'LANGSMITH_AIP_KEY', 'HUGGINGFACE_TOKEN']:\n",
    "        # Mask sensitive values for security\n",
    "        masked_value = value[:8] + \"...\" + value[-4:] if value else value\n",
    "        print(f\"- {key}: {masked_value}\")"
   ]
  },
  {
   "cell_type": "markdown",
   "id": "010d94c9",
   "metadata": {},
   "source": [
    "### Tool Calling\n",
    "\n",
    "**Tool Calling** is the process where the LLM decides, during a conversation or task, that it needs to use a specific tool (function) - and generates a structured output with:\n",
    "- the **name of the tool**\n",
    "- and the **arguments** to call it with\n",
    "\n",
    "**Note:** \n",
    "- The LLM does not actually run the tool.\n",
    "- It just suggests the tool and the input arguments.\n",
    "- The actual execution is handled by the LangChain or you."
   ]
  },
  {
   "cell_type": "code",
   "execution_count": 31,
   "id": "b6703807",
   "metadata": {},
   "outputs": [],
   "source": [
    "from langchain_openai import ChatOpenAI\n",
    "from langchain_core.tools import tool\n",
    "from langchain_core.messages import HumanMessage\n",
    "import requests"
   ]
  },
  {
   "cell_type": "code",
   "execution_count": 40,
   "id": "7741a492",
   "metadata": {},
   "outputs": [],
   "source": [
    "# TOOL CREATION"
   ]
  },
  {
   "cell_type": "code",
   "execution_count": 55,
   "id": "f99c2342",
   "metadata": {},
   "outputs": [],
   "source": [
    "@tool\n",
    "def multiply(a: int, b: int) -> int:\n",
    "  \"\"\"Given 2 numbers a and b this tool returns their product\"\"\"\n",
    "  return a * b"
   ]
  },
  {
   "cell_type": "code",
   "execution_count": 56,
   "id": "f9bb5b27",
   "metadata": {},
   "outputs": [
    {
     "name": "stdout",
     "output_type": "stream",
     "text": [
      "12\n"
     ]
    }
   ],
   "source": [
    "print(multiply.invoke({'a':3, 'b':4}))"
   ]
  },
  {
   "cell_type": "code",
   "execution_count": 57,
   "id": "a697c1e2",
   "metadata": {},
   "outputs": [
    {
     "name": "stdout",
     "output_type": "stream",
     "text": [
      "multiply\n",
      "Given 2 numbers a and b this tool returns their product\n",
      "{'a': {'title': 'A', 'type': 'integer'}, 'b': {'title': 'B', 'type': 'integer'}}\n"
     ]
    }
   ],
   "source": [
    "print(multiply.name)\n",
    "print(multiply.description)\n",
    "print(multiply.args)"
   ]
  },
  {
   "cell_type": "code",
   "execution_count": 35,
   "id": "deb77979",
   "metadata": {},
   "outputs": [],
   "source": [
    "# TOOL BINDING"
   ]
  },
  {
   "cell_type": "code",
   "execution_count": 37,
   "id": "dcf7b0cf",
   "metadata": {},
   "outputs": [],
   "source": [
    "llm = ChatOpenAI()"
   ]
  },
  {
   "cell_type": "code",
   "execution_count": 38,
   "id": "31258921",
   "metadata": {},
   "outputs": [
    {
     "data": {
      "text/plain": [
       "AIMessage(content='Hello! How can I help you today?', additional_kwargs={'refusal': None}, response_metadata={'token_usage': {'completion_tokens': 9, 'prompt_tokens': 8, 'total_tokens': 17, 'completion_tokens_details': {'accepted_prediction_tokens': 0, 'audio_tokens': 0, 'reasoning_tokens': 0, 'rejected_prediction_tokens': 0}, 'prompt_tokens_details': {'audio_tokens': 0, 'cached_tokens': 0}}, 'model_name': 'gpt-3.5-turbo-0125', 'system_fingerprint': None, 'id': 'chatcmpl-BZIKMjVtI3rw4zK7ngNfOpCHgGQSM', 'service_tier': 'default', 'finish_reason': 'stop', 'logprobs': None}, id='run--3a92d24f-7109-43f2-a80a-1c11c60ee180-0', usage_metadata={'input_tokens': 8, 'output_tokens': 9, 'total_tokens': 17, 'input_token_details': {'audio': 0, 'cache_read': 0}, 'output_token_details': {'audio': 0, 'reasoning': 0}})"
      ]
     },
     "execution_count": 38,
     "metadata": {},
     "output_type": "execute_result"
    }
   ],
   "source": [
    "llm.invoke('hi')"
   ]
  },
  {
   "cell_type": "code",
   "execution_count": 39,
   "id": "b253afe4",
   "metadata": {},
   "outputs": [],
   "source": [
    "llm_with_tools = llm.bind_tools([multiply])"
   ]
  },
  {
   "cell_type": "code",
   "execution_count": 41,
   "id": "be7edb00",
   "metadata": {},
   "outputs": [],
   "source": [
    "# TOOL CALLING"
   ]
  },
  {
   "cell_type": "code",
   "execution_count": 45,
   "id": "cfc963d2",
   "metadata": {},
   "outputs": [
    {
     "data": {
      "text/plain": [
       "AIMessage(content='', additional_kwargs={'tool_calls': [{'id': 'call_2oQVkyzh3zrqoBnMbRQasPBA', 'function': {'arguments': '{\"a\":5,\"b\":10}', 'name': 'multiply'}, 'type': 'function'}], 'refusal': None}, response_metadata={'token_usage': {'completion_tokens': 17, 'prompt_tokens': 66, 'total_tokens': 83, 'completion_tokens_details': {'accepted_prediction_tokens': 0, 'audio_tokens': 0, 'reasoning_tokens': 0, 'rejected_prediction_tokens': 0}, 'prompt_tokens_details': {'audio_tokens': 0, 'cached_tokens': 0}}, 'model_name': 'gpt-3.5-turbo-0125', 'system_fingerprint': None, 'id': 'chatcmpl-BZLRCXstZclsri1ieLi0gNiJHFnkZ', 'service_tier': 'default', 'finish_reason': 'tool_calls', 'logprobs': None}, id='run--3c269bc0-2df5-4630-adfd-f4b9c20c2da0-0', tool_calls=[{'name': 'multiply', 'args': {'a': 5, 'b': 10}, 'id': 'call_2oQVkyzh3zrqoBnMbRQasPBA', 'type': 'tool_call'}], usage_metadata={'input_tokens': 66, 'output_tokens': 17, 'total_tokens': 83, 'input_token_details': {'audio': 0, 'cache_read': 0}, 'output_token_details': {'audio': 0, 'reasoning': 0}})"
      ]
     },
     "execution_count": 45,
     "metadata": {},
     "output_type": "execute_result"
    }
   ],
   "source": [
    "result = llm_with_tools.invoke(\"Can you tell me what is 5 times 10?\")\n",
    "result"
   ]
  },
  {
   "cell_type": "code",
   "execution_count": 47,
   "id": "38b34a1a",
   "metadata": {},
   "outputs": [
    {
     "data": {
      "text/plain": [
       "{'name': 'multiply',\n",
       " 'args': {'a': 5, 'b': 10},\n",
       " 'id': 'call_2oQVkyzh3zrqoBnMbRQasPBA',\n",
       " 'type': 'tool_call'}"
      ]
     },
     "execution_count": 47,
     "metadata": {},
     "output_type": "execute_result"
    }
   ],
   "source": [
    "result.tool_calls[0]"
   ]
  },
  {
   "cell_type": "code",
   "execution_count": 44,
   "id": "e42a7d54",
   "metadata": {},
   "outputs": [],
   "source": [
    "# TOOL EXECUTION"
   ]
  },
  {
   "cell_type": "code",
   "execution_count": 50,
   "id": "c519160e",
   "metadata": {},
   "outputs": [
    {
     "data": {
      "text/plain": [
       "50"
      ]
     },
     "execution_count": 50,
     "metadata": {},
     "output_type": "execute_result"
    }
   ],
   "source": [
    "multiply.invoke(result.tool_calls[0]['args'])"
   ]
  },
  {
   "cell_type": "code",
   "execution_count": 51,
   "id": "bcfbacd8",
   "metadata": {},
   "outputs": [
    {
     "data": {
      "text/plain": [
       "ToolMessage(content='50', name='multiply', tool_call_id='call_2oQVkyzh3zrqoBnMbRQasPBA')"
      ]
     },
     "execution_count": 51,
     "metadata": {},
     "output_type": "execute_result"
    }
   ],
   "source": [
    "multiply.invoke(result.tool_calls[0])"
   ]
  },
  {
   "cell_type": "markdown",
   "id": "fa0b64df",
   "metadata": {},
   "source": [
    "### END TO END - CURRENCY CONVERSION TOOL"
   ]
  },
  {
   "cell_type": "code",
   "execution_count": 58,
   "id": "0bc134de",
   "metadata": {},
   "outputs": [],
   "source": [
    "# tool create\n",
    "from langchain_core.tools import InjectedToolArg\n",
    "from typing import Annotated"
   ]
  },
  {
   "cell_type": "code",
   "execution_count": 60,
   "id": "0d4d9137",
   "metadata": {},
   "outputs": [],
   "source": [
    "@tool\n",
    "def get_conversion_factor(base_currency: str, target_currency: str) -> float:\n",
    "  \"\"\"\n",
    "  This function fetches the currency conversion factor between a given base currency and a target currency\n",
    "  \"\"\"\n",
    "  url = f'https://v6.exchangerate-api.com/v6/c754eab14ffab33112e380ca/pair/{base_currency}/{target_currency}'\n",
    "\n",
    "  response = requests.get(url)\n",
    "\n",
    "  return response.json()\n",
    "\n",
    "@tool\n",
    "def convert(base_currency_value: int, conversion_rate: Annotated[float, InjectedToolArg]) -> float:\n",
    "  \"\"\"\n",
    "  given a currency conversion rate this function calculates the target currency value from a given base currency value\n",
    "  \"\"\"\n",
    "\n",
    "  return base_currency_value * conversion_rate\n"
   ]
  },
  {
   "cell_type": "code",
   "execution_count": 61,
   "id": "bf7ba863",
   "metadata": {},
   "outputs": [
    {
     "data": {
      "text/plain": [
       "{'base_currency_value': {'title': 'Base Currency Value', 'type': 'integer'},\n",
       " 'conversion_rate': {'title': 'Conversion Rate', 'type': 'number'}}"
      ]
     },
     "execution_count": 61,
     "metadata": {},
     "output_type": "execute_result"
    }
   ],
   "source": [
    "convert.args"
   ]
  },
  {
   "cell_type": "code",
   "execution_count": 62,
   "id": "262319e2",
   "metadata": {},
   "outputs": [
    {
     "data": {
      "text/plain": [
       "{'result': 'success',\n",
       " 'documentation': 'https://www.exchangerate-api.com/docs',\n",
       " 'terms_of_use': 'https://www.exchangerate-api.com/terms',\n",
       " 'time_last_update_unix': 1747958401,\n",
       " 'time_last_update_utc': 'Fri, 23 May 2025 00:00:01 +0000',\n",
       " 'time_next_update_unix': 1748044801,\n",
       " 'time_next_update_utc': 'Sat, 24 May 2025 00:00:01 +0000',\n",
       " 'base_code': 'USD',\n",
       " 'target_code': 'INR',\n",
       " 'conversion_rate': 85.9969}"
      ]
     },
     "execution_count": 62,
     "metadata": {},
     "output_type": "execute_result"
    }
   ],
   "source": [
    "get_conversion_factor.invoke({'base_currency':'USD','target_currency':'INR'})"
   ]
  },
  {
   "cell_type": "code",
   "execution_count": null,
   "id": "e132e9aa",
   "metadata": {},
   "outputs": [
    {
     "data": {
      "text/plain": [
       "851.5999999999999"
      ]
     },
     "execution_count": 63,
     "metadata": {},
     "output_type": "execute_result"
    }
   ],
   "source": [
    "convert.invoke({'base_currency_value': 10, 'conversion_rate': 85.16})"
   ]
  },
  {
   "cell_type": "code",
   "execution_count": 64,
   "id": "b9cbe2af",
   "metadata": {},
   "outputs": [],
   "source": [
    "# TOOL BINDING"
   ]
  },
  {
   "cell_type": "code",
   "execution_count": 65,
   "id": "d2bc5507",
   "metadata": {},
   "outputs": [],
   "source": [
    "llm = ChatOpenAI()"
   ]
  },
  {
   "cell_type": "code",
   "execution_count": 66,
   "id": "22cbe5e8",
   "metadata": {},
   "outputs": [],
   "source": [
    "llm_with_tools = llm.bind_tools([get_conversion_factor, convert])"
   ]
  },
  {
   "cell_type": "code",
   "execution_count": 67,
   "id": "6a64b694",
   "metadata": {},
   "outputs": [],
   "source": [
    "messages = [HumanMessage('What is the conversion factor between INR and USD, and based on that can you convert 10 inr to usd')]"
   ]
  },
  {
   "cell_type": "code",
   "execution_count": 68,
   "id": "4afcd369",
   "metadata": {},
   "outputs": [],
   "source": [
    "ai_message = llm_with_tools.invoke(messages)"
   ]
  },
  {
   "cell_type": "code",
   "execution_count": 69,
   "id": "e977e16e",
   "metadata": {},
   "outputs": [],
   "source": [
    "messages.append(ai_message)"
   ]
  },
  {
   "cell_type": "code",
   "execution_count": 70,
   "id": "53be9ad4",
   "metadata": {},
   "outputs": [
    {
     "data": {
      "text/plain": [
       "[{'name': 'get_conversion_factor',\n",
       "  'args': {'base_currency': 'INR', 'target_currency': 'USD'},\n",
       "  'id': 'call_JwpmkqCuAmQn12slUHW21QUU',\n",
       "  'type': 'tool_call'},\n",
       " {'name': 'convert',\n",
       "  'args': {'base_currency_value': 10},\n",
       "  'id': 'call_8squgokRJHbtGLpG5dkGM6ZX',\n",
       "  'type': 'tool_call'}]"
      ]
     },
     "execution_count": 70,
     "metadata": {},
     "output_type": "execute_result"
    }
   ],
   "source": [
    "ai_message.tool_calls"
   ]
  },
  {
   "cell_type": "code",
   "execution_count": 71,
   "id": "96e9f21c",
   "metadata": {},
   "outputs": [],
   "source": [
    "import json\n",
    "\n",
    "for tool_call in ai_message.tool_calls:\n",
    "  # execute the 1st tool and get the value of conversion rate\n",
    "  if tool_call['name'] == 'get_conversion_factor':\n",
    "    tool_message1 = get_conversion_factor.invoke(tool_call)\n",
    "    # fetch this conversion rate\n",
    "    conversion_rate = json.loads(tool_message1.content)['conversion_rate']\n",
    "    # append this tool message to messages list\n",
    "    messages.append(tool_message1)\n",
    "  # execute the 2nd tool using the conversion rate from tool 1\n",
    "  if tool_call['name'] == 'convert':\n",
    "    # fetch the current arg\n",
    "    tool_call['args']['conversion_rate'] = conversion_rate\n",
    "    tool_message2 = convert.invoke(tool_call)\n",
    "    messages.append(tool_message2)"
   ]
  },
  {
   "cell_type": "code",
   "execution_count": 72,
   "id": "bc8e67e2",
   "metadata": {},
   "outputs": [
    {
     "name": "stdout",
     "output_type": "stream",
     "text": [
      "content='What is the conversion factor between INR and USD, and based on that can you convert 10 inr to usd' additional_kwargs={} response_metadata={}\n",
      "\n",
      "content='' additional_kwargs={'tool_calls': [{'id': 'call_JwpmkqCuAmQn12slUHW21QUU', 'function': {'arguments': '{\"base_currency\": \"INR\", \"target_currency\": \"USD\"}', 'name': 'get_conversion_factor'}, 'type': 'function'}, {'id': 'call_8squgokRJHbtGLpG5dkGM6ZX', 'function': {'arguments': '{\"base_currency_value\": 10}', 'name': 'convert'}, 'type': 'function'}], 'refusal': None} response_metadata={'token_usage': {'completion_tokens': 52, 'prompt_tokens': 123, 'total_tokens': 175, 'completion_tokens_details': {'accepted_prediction_tokens': 0, 'audio_tokens': 0, 'reasoning_tokens': 0, 'rejected_prediction_tokens': 0}, 'prompt_tokens_details': {'audio_tokens': 0, 'cached_tokens': 0}}, 'model_name': 'gpt-3.5-turbo-0125', 'system_fingerprint': None, 'id': 'chatcmpl-BaQ0LdNsASvlXs4be2wCOgKbwgwY5', 'service_tier': 'default', 'finish_reason': 'tool_calls', 'logprobs': None} id='run--dafa0902-b3ce-4b67-a828-b6fd194f441e-0' tool_calls=[{'name': 'get_conversion_factor', 'args': {'base_currency': 'INR', 'target_currency': 'USD'}, 'id': 'call_JwpmkqCuAmQn12slUHW21QUU', 'type': 'tool_call'}, {'name': 'convert', 'args': {'base_currency_value': 10, 'conversion_rate': 0.01163}, 'id': 'call_8squgokRJHbtGLpG5dkGM6ZX', 'type': 'tool_call'}] usage_metadata={'input_tokens': 123, 'output_tokens': 52, 'total_tokens': 175, 'input_token_details': {'audio': 0, 'cache_read': 0}, 'output_token_details': {'audio': 0, 'reasoning': 0}}\n",
      "\n",
      "content='{\"result\": \"success\", \"documentation\": \"https://www.exchangerate-api.com/docs\", \"terms_of_use\": \"https://www.exchangerate-api.com/terms\", \"time_last_update_unix\": 1747958401, \"time_last_update_utc\": \"Fri, 23 May 2025 00:00:01 +0000\", \"time_next_update_unix\": 1748044801, \"time_next_update_utc\": \"Sat, 24 May 2025 00:00:01 +0000\", \"base_code\": \"INR\", \"target_code\": \"USD\", \"conversion_rate\": 0.01163}' name='get_conversion_factor' tool_call_id='call_JwpmkqCuAmQn12slUHW21QUU'\n",
      "\n",
      "content='0.1163' name='convert' tool_call_id='call_8squgokRJHbtGLpG5dkGM6ZX'\n",
      "\n"
     ]
    }
   ],
   "source": [
    "for message in messages:\n",
    "    print(message, end='\\n\\n')"
   ]
  },
  {
   "cell_type": "code",
   "execution_count": 73,
   "id": "1a402bb3",
   "metadata": {},
   "outputs": [
    {
     "data": {
      "text/plain": [
       "'The conversion factor between INR (Indian Rupee) and USD (US Dollar) is 0.01163.\\n\\nBased on this conversion factor, converting 10 INR to USD would be approximately 0.1163 USD.'"
      ]
     },
     "execution_count": 73,
     "metadata": {},
     "output_type": "execute_result"
    }
   ],
   "source": [
    "response = llm_with_tools.invoke(messages)\n",
    "response.content"
   ]
  },
  {
   "cell_type": "markdown",
   "id": "95878487",
   "metadata": {},
   "source": [
    "### Built-in Tools"
   ]
  },
  {
   "cell_type": "markdown",
   "id": "f7bf4e92",
   "metadata": {},
   "source": [
    "##### DuckDuckGo Search"
   ]
  },
  {
   "cell_type": "code",
   "execution_count": 3,
   "id": "d2f772fe",
   "metadata": {},
   "outputs": [
    {
     "name": "stdout",
     "output_type": "stream",
     "text": [
      "Bengaluru Rains: Heavy rainfall took Bengaluru by storm on Sunday, with several areas reporting severe waterlogging. As per Karnataka Weatherman, the deluge last night was Bengaluru's heaviest of the year yet. The India Meteorological Department (IMD) has issued a heavy rain alert in the city., Bengaluru News News - Times Now Karnataka Weather: Bengaluru sees severe flooding, traffic chaos, and casualties as IMD issues orange alert. Stay updated with our live coverage. Bengaluru rain LIVE updates: Follow The Hindu's live updates as heavy rain lash Karnataka's capital Bengaluru on May 20, 2025. Bengaluru weather live updates: Incessant rainfall has wreaked havoc in the capital of Karnataka as torrential downpour led to massive waterlogging and flooding on the city roads, posing severe ... Bangalore Rain News Today, Weather Updates Live: Bengaluru received record rainfall in the last 24 hours, logging 105.5 mm of rainfall during the 24 hours ending 8.30 am on May 19.\n"
     ]
    }
   ],
   "source": [
    "from langchain_community.tools import DuckDuckGoSearchRun\n",
    "\n",
    "search_tool = DuckDuckGoSearchRun()\n",
    "\n",
    "results = search_tool.invoke('News on Bengaluru Rain')\n",
    "\n",
    "print(results)"
   ]
  },
  {
   "cell_type": "markdown",
   "id": "33966630",
   "metadata": {},
   "source": [
    "##### Shell Tool"
   ]
  },
  {
   "cell_type": "code",
   "execution_count": 4,
   "id": "5b753b20",
   "metadata": {},
   "outputs": [
    {
     "name": "stdout",
     "output_type": "stream",
     "text": [
      "Executing command:\n",
      " ls\n",
      "1-learn-rag-components.ipynb\n",
      "2-learn-agent-components.ipynb\n",
      "3.prompt_generator.py\n",
      "\u001b[34mDB\u001b[m\u001b[m\n",
      "README.md\n",
      "chat_history.txt\n",
      "\u001b[34mdata\u001b[m\u001b[m\n",
      "\u001b[34mdeeplearning.ai\u001b[m\u001b[m\n",
      "langchain-nlp-course.ipynb\n",
      "notes.txt\n",
      "programming_practice.ipynb\n",
      "\u001b[34mproject-email-sql-with-natural-language\u001b[m\u001b[m\n",
      "\u001b[34mproject-pdf-conversation\u001b[m\u001b[m\n",
      "\u001b[34mproject-stt-whisper\u001b[m\u001b[m\n",
      "\u001b[34mproject-youtube-video-chat\u001b[m\u001b[m\n",
      "prompt_template.json\n",
      "requirements.txt\n",
      "transformer-explained-2.ipynb\n",
      "transformer-explained.ipynb\n",
      "transformers_code.ipynb\n",
      "vector-query-with-metadata-approach.md\n",
      "word2vec_cbow.ipynb\n",
      "word2vec_skipgram.ipynb\n",
      "\n"
     ]
    },
    {
     "name": "stderr",
     "output_type": "stream",
     "text": [
      "/Users/nikhilsharma/miniconda3/envs/lang/lib/python3.10/site-packages/langchain_community/tools/shell/tool.py:33: UserWarning: The shell tool has no safeguards by default. Use at your own risk.\n",
      "  warnings.warn(\n"
     ]
    }
   ],
   "source": [
    "from langchain_community.tools import ShellTool\n",
    "\n",
    "shell_tool = ShellTool()\n",
    "\n",
    "results = shell_tool.invoke('ls')\n",
    "\n",
    "print(results)"
   ]
  },
  {
   "cell_type": "markdown",
   "id": "154abac8",
   "metadata": {},
   "source": [
    "### Custom Tools"
   ]
  },
  {
   "cell_type": "code",
   "execution_count": 5,
   "id": "5d08e54a",
   "metadata": {},
   "outputs": [],
   "source": [
    "from langchain_core.tools import tool"
   ]
  },
  {
   "cell_type": "code",
   "execution_count": 6,
   "id": "0a360fb5",
   "metadata": {},
   "outputs": [],
   "source": [
    "# Step 1 - create a function\n",
    "# Step 2 - add type hints\n",
    "# Step 3 - add tool decorator\n",
    "\n",
    "@tool\n",
    "def multiply(a: int, b:int) -> int:\n",
    "    \"\"\"Multiply two numbers\"\"\"\n",
    "    return a*b"
   ]
  },
  {
   "cell_type": "code",
   "execution_count": 8,
   "id": "c98dac5e",
   "metadata": {},
   "outputs": [
    {
     "data": {
      "text/plain": [
       "15"
      ]
     },
     "execution_count": 8,
     "metadata": {},
     "output_type": "execute_result"
    }
   ],
   "source": [
    "result = multiply.invoke({\"a\":3, \"b\":5})\n",
    "result"
   ]
  },
  {
   "cell_type": "code",
   "execution_count": 9,
   "id": "c40f4a41",
   "metadata": {},
   "outputs": [
    {
     "name": "stdout",
     "output_type": "stream",
     "text": [
      "multiply\n",
      "Multiply two numbers\n",
      "{'a': {'title': 'A', 'type': 'integer'}, 'b': {'title': 'B', 'type': 'integer'}}\n"
     ]
    }
   ],
   "source": [
    "print(multiply.name)\n",
    "print(multiply.description)\n",
    "print(multiply.args)"
   ]
  },
  {
   "cell_type": "code",
   "execution_count": 11,
   "id": "3f4b55d0",
   "metadata": {},
   "outputs": [
    {
     "name": "stdout",
     "output_type": "stream",
     "text": [
      "duckduckgo_search\n",
      "A wrapper around DuckDuckGo Search. Useful for when you need to answer questions about current events. Input should be a search query.\n",
      "{'query': {'description': 'search query to look up', 'title': 'Query', 'type': 'string'}}\n"
     ]
    }
   ],
   "source": [
    "print(search_tool.name)\n",
    "print(search_tool.description)\n",
    "print(search_tool.args)"
   ]
  },
  {
   "cell_type": "code",
   "execution_count": 10,
   "id": "c65d5c56",
   "metadata": {},
   "outputs": [
    {
     "name": "stdout",
     "output_type": "stream",
     "text": [
      "terminal\n",
      "Run shell commands on this MacOS machine.\n",
      "{'commands': {'anyOf': [{'type': 'string'}, {'items': {'type': 'string'}, 'type': 'array'}], 'description': 'List of shell commands to run. Deserialized using json.loads', 'title': 'Commands'}}\n"
     ]
    }
   ],
   "source": [
    "print(shell_tool.name)\n",
    "print(shell_tool.description)\n",
    "print(shell_tool.args)"
   ]
  },
  {
   "cell_type": "code",
   "execution_count": 14,
   "id": "8862bed3",
   "metadata": {},
   "outputs": [
    {
     "data": {
      "text/plain": [
       "{'description': 'Multiply two numbers',\n",
       " 'properties': {'a': {'title': 'A', 'type': 'integer'},\n",
       "  'b': {'title': 'B', 'type': 'integer'}},\n",
       " 'required': ['a', 'b'],\n",
       " 'title': 'multiply',\n",
       " 'type': 'object'}"
      ]
     },
     "execution_count": 14,
     "metadata": {},
     "output_type": "execute_result"
    }
   ],
   "source": [
    "multiply.args_schema.model_json_schema()"
   ]
  },
  {
   "cell_type": "code",
   "execution_count": 15,
   "id": "a2c26f9a",
   "metadata": {},
   "outputs": [
    {
     "data": {
      "text/plain": [
       "{'description': 'Input for the DuckDuckGo search tool.',\n",
       " 'properties': {'query': {'description': 'search query to look up',\n",
       "   'title': 'Query',\n",
       "   'type': 'string'}},\n",
       " 'required': ['query'],\n",
       " 'title': 'DDGInput',\n",
       " 'type': 'object'}"
      ]
     },
     "execution_count": 15,
     "metadata": {},
     "output_type": "execute_result"
    }
   ],
   "source": [
    "search_tool.args_schema.model_json_schema()"
   ]
  },
  {
   "cell_type": "code",
   "execution_count": 16,
   "id": "36af6a9c",
   "metadata": {},
   "outputs": [
    {
     "data": {
      "text/plain": [
       "{'description': 'Commands for the Bash Shell tool.',\n",
       " 'properties': {'commands': {'anyOf': [{'type': 'string'},\n",
       "    {'items': {'type': 'string'}, 'type': 'array'}],\n",
       "   'description': 'List of shell commands to run. Deserialized using json.loads',\n",
       "   'title': 'Commands'}},\n",
       " 'required': ['commands'],\n",
       " 'title': 'ShellInput',\n",
       " 'type': 'object'}"
      ]
     },
     "execution_count": 16,
     "metadata": {},
     "output_type": "execute_result"
    }
   ],
   "source": [
    "shell_tool.args_schema.model_json_schema()"
   ]
  },
  {
   "cell_type": "markdown",
   "id": "8fb5f838",
   "metadata": {},
   "source": [
    "### Using StructuredTool"
   ]
  },
  {
   "cell_type": "code",
   "execution_count": 17,
   "id": "6f14645d",
   "metadata": {},
   "outputs": [],
   "source": [
    "from langchain.tools import StructuredTool\n",
    "from pydantic import BaseModel, Field"
   ]
  },
  {
   "cell_type": "code",
   "execution_count": 18,
   "id": "381f781e",
   "metadata": {},
   "outputs": [],
   "source": [
    "class MultiplyInput(BaseModel):\n",
    "    a: int = Field(required=True, description=\"The first number to add\")\n",
    "    b: int = Field(required=True, description=\"The second number to add\")"
   ]
  },
  {
   "cell_type": "code",
   "execution_count": 19,
   "id": "ca6cecff",
   "metadata": {},
   "outputs": [],
   "source": [
    "def multiply_func(a: int, b: int) -> int:\n",
    "    return a * b"
   ]
  },
  {
   "cell_type": "code",
   "execution_count": 20,
   "id": "f344154d",
   "metadata": {},
   "outputs": [],
   "source": [
    "multiply_tool = StructuredTool.from_function(\n",
    "    func=multiply_func,\n",
    "    name=\"multiply\",\n",
    "    description=\"Multiply two numbers\",\n",
    "    args_schema=MultiplyInput\n",
    ")"
   ]
  },
  {
   "cell_type": "code",
   "execution_count": 21,
   "id": "e613f1c6",
   "metadata": {},
   "outputs": [
    {
     "name": "stdout",
     "output_type": "stream",
     "text": [
      "9\n",
      "multiply\n",
      "Multiply two numbers\n",
      "{'a': {'description': 'The first number to add', 'required': True, 'title': 'A', 'type': 'integer'}, 'b': {'description': 'The second number to add', 'required': True, 'title': 'B', 'type': 'integer'}}\n"
     ]
    }
   ],
   "source": [
    "result = multiply_tool.invoke({'a':3, 'b':3})\n",
    "\n",
    "print(result)\n",
    "print(multiply_tool.name)\n",
    "print(multiply_tool.description)\n",
    "print(multiply_tool.args)"
   ]
  },
  {
   "cell_type": "markdown",
   "id": "7a74ace5",
   "metadata": {},
   "source": [
    "### Using BaseTool Class"
   ]
  },
  {
   "cell_type": "code",
   "execution_count": 22,
   "id": "9e57362b",
   "metadata": {},
   "outputs": [],
   "source": [
    "from langchain.tools import BaseTool\n",
    "from typing import Type"
   ]
  },
  {
   "cell_type": "code",
   "execution_count": 23,
   "id": "9c5cca78",
   "metadata": {},
   "outputs": [],
   "source": [
    "# arg schema using pydantic\n",
    "\n",
    "class MultiplyInput(BaseModel):\n",
    "    a: int = Field(required=True, description=\"The first number to add\")\n",
    "    b: int = Field(required=True, description=\"The second number to add\")"
   ]
  },
  {
   "cell_type": "code",
   "execution_count": 24,
   "id": "15704b66",
   "metadata": {},
   "outputs": [],
   "source": [
    "class MultiplyTool(BaseTool):\n",
    "    name: str = \"multiply\"\n",
    "    description: str = \"Multiply two numbers\"\n",
    "\n",
    "    args_schema: Type[BaseModel] = MultiplyInput\n",
    "\n",
    "    def _run(self, a: int, b: int) -> int:\n",
    "        return a * b"
   ]
  },
  {
   "cell_type": "code",
   "execution_count": 25,
   "id": "ed903fda",
   "metadata": {},
   "outputs": [],
   "source": [
    "multiply_tool = MultiplyTool()"
   ]
  },
  {
   "cell_type": "code",
   "execution_count": 26,
   "id": "e1024eb7",
   "metadata": {},
   "outputs": [
    {
     "name": "stdout",
     "output_type": "stream",
     "text": [
      "9\n",
      "multiply\n",
      "Multiply two numbers\n",
      "{'a': {'description': 'The first number to add', 'required': True, 'title': 'A', 'type': 'integer'}, 'b': {'description': 'The second number to add', 'required': True, 'title': 'B', 'type': 'integer'}}\n"
     ]
    }
   ],
   "source": [
    "result = multiply_tool.invoke({'a':3, 'b':3})\n",
    "\n",
    "print(result)\n",
    "print(multiply_tool.name)\n",
    "print(multiply_tool.description)\n",
    "\n",
    "print(multiply_tool.args)"
   ]
  },
  {
   "cell_type": "markdown",
   "id": "e8f459b8",
   "metadata": {},
   "source": [
    "### Toolkit\n",
    "\n",
    "A toolkit is just a collection (bundle) of related tools that serve a common purpose - packaged together for convienence and reusability."
   ]
  },
  {
   "cell_type": "code",
   "execution_count": 27,
   "id": "22faac15",
   "metadata": {},
   "outputs": [],
   "source": [
    "from langchain_core.tools import tool\n",
    "\n",
    "# Custom tools\n",
    "@tool\n",
    "def add(a: int, b: int) -> int:\n",
    "    \"\"\"Add two numbers\"\"\"\n",
    "    return a + b\n",
    "\n",
    "@tool\n",
    "def multiply(a: int, b: int) -> int:\n",
    "    \"\"\"Multiply two numbers\"\"\"\n",
    "    return a * b"
   ]
  },
  {
   "cell_type": "code",
   "execution_count": 28,
   "id": "0cc4aa40",
   "metadata": {},
   "outputs": [],
   "source": [
    "class MathToolkit:\n",
    "    def get_tools(self):\n",
    "        return [add, multiply]"
   ]
  },
  {
   "cell_type": "code",
   "execution_count": 29,
   "id": "748d69af",
   "metadata": {},
   "outputs": [
    {
     "name": "stdout",
     "output_type": "stream",
     "text": [
      "add => Add two numbers\n",
      "multiply => Multiply two numbers\n"
     ]
    }
   ],
   "source": [
    "toolkit = MathToolkit()\n",
    "tools = toolkit.get_tools()\n",
    "\n",
    "for tool in tools:\n",
    "    print(tool.name, \"=>\", tool.description)\n"
   ]
  },
  {
   "cell_type": "code",
   "execution_count": null,
   "id": "5490534f",
   "metadata": {},
   "outputs": [],
   "source": []
  }
 ],
 "metadata": {
  "kernelspec": {
   "display_name": "lang",
   "language": "python",
   "name": "python3"
  },
  "language_info": {
   "codemirror_mode": {
    "name": "ipython",
    "version": 3
   },
   "file_extension": ".py",
   "mimetype": "text/x-python",
   "name": "python",
   "nbconvert_exporter": "python",
   "pygments_lexer": "ipython3",
   "version": "3.10.16"
  }
 },
 "nbformat": 4,
 "nbformat_minor": 5
}
