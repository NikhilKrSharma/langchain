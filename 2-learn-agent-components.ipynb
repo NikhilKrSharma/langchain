{
 "cells": [
  {
   "cell_type": "markdown",
   "id": "91c8aa6e",
   "metadata": {},
   "source": [
    "### Tool\n",
    "\n",
    "A tool is just a python function (API) that is packaged in a way that the LLM can understand and call when needed.\n",
    "\n",
    "### Agent\n",
    "\n",
    "An AI agent is an LLM-powered system that can autonomously think, decide and take actions using external tools or APIs to achieve a goal."
   ]
  },
  {
   "cell_type": "code",
   "execution_count": null,
   "id": "d2f772fe",
   "metadata": {},
   "outputs": [],
   "source": []
  },
  {
   "cell_type": "code",
   "execution_count": null,
   "id": "5b753b20",
   "metadata": {},
   "outputs": [],
   "source": []
  },
  {
   "cell_type": "code",
   "execution_count": null,
   "id": "5d08e54a",
   "metadata": {},
   "outputs": [],
   "source": []
  },
  {
   "cell_type": "code",
   "execution_count": null,
   "id": "0a360fb5",
   "metadata": {},
   "outputs": [],
   "source": []
  },
  {
   "cell_type": "code",
   "execution_count": null,
   "id": "c98dac5e",
   "metadata": {},
   "outputs": [],
   "source": []
  },
  {
   "cell_type": "code",
   "execution_count": null,
   "id": "c40f4a41",
   "metadata": {},
   "outputs": [],
   "source": []
  },
  {
   "cell_type": "code",
   "execution_count": null,
   "id": "c65d5c56",
   "metadata": {},
   "outputs": [],
   "source": []
  }
 ],
 "metadata": {
  "language_info": {
   "name": "python"
  }
 },
 "nbformat": 4,
 "nbformat_minor": 5
}
