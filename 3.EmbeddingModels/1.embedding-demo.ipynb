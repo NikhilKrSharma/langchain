{
 "cells": [
  {
   "cell_type": "code",
   "execution_count": null,
   "metadata": {},
   "outputs": [],
   "source": [
    "from langchain_openai import OpenAIEmbeddings\n",
    "\n",
    "from dotenv import load_dotenv\n",
    "load_dotenv()"
   ]
  },
  {
   "cell_type": "markdown",
   "metadata": {},
   "source": [
    "# OpenAI"
   ]
  },
  {
   "cell_type": "code",
   "execution_count": null,
   "metadata": {},
   "outputs": [],
   "source": [
    "embedding_model = OpenAIEmbeddings(model='text-embedding-3-large', dimensions=200)"
   ]
  },
  {
   "cell_type": "code",
   "execution_count": null,
   "metadata": {},
   "outputs": [],
   "source": [
    "result = embedding_model.embed_query('Delhi is the capital of India.')"
   ]
  },
  {
   "cell_type": "code",
   "execution_count": null,
   "metadata": {},
   "outputs": [],
   "source": [
    "result"
   ]
  },
  {
   "cell_type": "code",
   "execution_count": null,
   "metadata": {},
   "outputs": [],
   "source": [
    "documents = [\n",
    "    'Delhi is the capital of India',\n",
    "    'Paris is the capital of France',\n",
    "    'Moscow is the capital of Russia'\n",
    "]"
   ]
  },
  {
   "cell_type": "code",
   "execution_count": null,
   "metadata": {},
   "outputs": [],
   "source": [
    "result = embedding_model.embed_documents(documents)"
   ]
  },
  {
   "cell_type": "markdown",
   "metadata": {},
   "source": [
    "# Hugging Face Local"
   ]
  },
  {
   "cell_type": "code",
   "execution_count": 9,
   "metadata": {},
   "outputs": [],
   "source": [
    "from langchain_huggingface import HuggingFaceEmbeddings\n",
    "\n",
    "from sklearn.metrics.pairwise import cosine_similarity\n",
    "\n",
    "import os"
   ]
  },
  {
   "cell_type": "code",
   "execution_count": 2,
   "metadata": {},
   "outputs": [],
   "source": [
    "# FutureWarning: Using `TRANSFORMERS_CACHE` is deprecated and will be removed in v5 of Transformers. Use `HF_HOME` instead.\n",
    "\n",
    "os.environ['HF_HOME']            = '/Users/nikhil20.sharma/Desktop/langchain_excercises/cache/hf'\n",
    "# os.environ['TRANSFORMERS_CACHE'] = '/Users/nikhil20.sharma/Desktop/langchain_excercises/cache/transformers'"
   ]
  },
  {
   "cell_type": "code",
   "execution_count": 3,
   "metadata": {},
   "outputs": [
    {
     "data": {
      "application/vnd.jupyter.widget-view+json": {
       "model_id": "983d1f8df2374446ae18558390c5c777",
       "version_major": 2,
       "version_minor": 0
      },
      "text/plain": [
       "config.json:   0%|          | 0.00/612 [00:00<?, ?B/s]"
      ]
     },
     "metadata": {},
     "output_type": "display_data"
    },
    {
     "data": {
      "application/vnd.jupyter.widget-view+json": {
       "model_id": "54c4ecb8acfb4876a034e89cd508596c",
       "version_major": 2,
       "version_minor": 0
      },
      "text/plain": [
       "model.safetensors:   0%|          | 0.00/90.9M [00:00<?, ?B/s]"
      ]
     },
     "metadata": {},
     "output_type": "display_data"
    },
    {
     "data": {
      "application/vnd.jupyter.widget-view+json": {
       "model_id": "6f7d28b327ea4186b4e45f1de2326fb8",
       "version_major": 2,
       "version_minor": 0
      },
      "text/plain": [
       "tokenizer_config.json:   0%|          | 0.00/350 [00:00<?, ?B/s]"
      ]
     },
     "metadata": {},
     "output_type": "display_data"
    },
    {
     "data": {
      "application/vnd.jupyter.widget-view+json": {
       "model_id": "e144e58a559e40dfb7c4bff2c144f464",
       "version_major": 2,
       "version_minor": 0
      },
      "text/plain": [
       "vocab.txt:   0%|          | 0.00/232k [00:00<?, ?B/s]"
      ]
     },
     "metadata": {},
     "output_type": "display_data"
    },
    {
     "data": {
      "application/vnd.jupyter.widget-view+json": {
       "model_id": "73e3714759b9460680de67c782dcbbbc",
       "version_major": 2,
       "version_minor": 0
      },
      "text/plain": [
       "tokenizer.json:   0%|          | 0.00/466k [00:00<?, ?B/s]"
      ]
     },
     "metadata": {},
     "output_type": "display_data"
    },
    {
     "data": {
      "application/vnd.jupyter.widget-view+json": {
       "model_id": "f785d2f4416f4ec9bbf365f64db85cac",
       "version_major": 2,
       "version_minor": 0
      },
      "text/plain": [
       "special_tokens_map.json:   0%|          | 0.00/112 [00:00<?, ?B/s]"
      ]
     },
     "metadata": {},
     "output_type": "display_data"
    }
   ],
   "source": [
    "embedding_model = HuggingFaceEmbeddings(model_name='sentence-transformers/all-MiniLM-L6-v2')"
   ]
  },
  {
   "cell_type": "code",
   "execution_count": 4,
   "metadata": {},
   "outputs": [],
   "source": [
    "documents = [\n",
    "    \"Space Exploration: The shimmering expanse of the cosmos beckons, urging humanity to push beyond Earth's bounds, seeking new worlds and unraveling the universe's ancient mysteries.\",\n",
    "    \"Artificial Intelligence: As algorithms evolve, the ethical implications of AI's growing autonomy demand careful consideration, ensuring these powerful tools serve humanity's best interests.\",\n",
    "    \"Climate Change: Rising sea levels and extreme weather patterns serve as stark reminders that immediate, global action is essential to mitigate the devastating effects of climate change.\",\n",
    "    \"Renewable Energy: Harnessing the sun, wind, and geothermal forces offers a sustainable path toward a cleaner future, reducing our reliance on fossil fuels and environmental damage.\",\n",
    "    \"Education Reform: Modernizing educational systems to foster critical thinking and creativity empowers future generations to navigate complex challenges in an ever-changing world.\",\n",
    "    \"Mental Health Awareness: Breaking down societal stigmas surrounding mental health and providing accessible support systems are crucial for fostering well-being within communities.\",\n",
    "    \"Global Connectivity: The internet's vast network connects individuals across continents, enabling instantaneous communication and the rapid exchange of knowledge and cultural ideas.\",\n",
    "    \"Urban Development: Sustainable urban planning, incorporating green spaces and efficient infrastructure, is vital for creating livable cities that prioritize residents' quality of life.\",\n",
    "    \"Food Security: Addressing global food security requires innovative agricultural practices and equitable distribution systems to ensure everyone has access to nutritious meals.\",\n",
    "    \"Artistic Expression: Through diverse mediums, artists challenge perspectives, evoke emotions, and provide unique insights into the human condition, enriching our cultural landscape.\"\n",
    "]"
   ]
  },
  {
   "cell_type": "code",
   "execution_count": 5,
   "metadata": {},
   "outputs": [],
   "source": [
    "query = 'tell me about the galaxy'"
   ]
  },
  {
   "cell_type": "code",
   "execution_count": 14,
   "metadata": {},
   "outputs": [],
   "source": [
    "embed_documents = embedding_model.embed_documents(documents)"
   ]
  },
  {
   "cell_type": "code",
   "execution_count": 7,
   "metadata": {},
   "outputs": [],
   "source": [
    "embed_query = embedding_model.embed_query(query)"
   ]
  },
  {
   "cell_type": "code",
   "execution_count": 17,
   "metadata": {},
   "outputs": [],
   "source": [
    "scores = cosine_similarity([embed_query], embed_documents)[0]"
   ]
  },
  {
   "cell_type": "code",
   "execution_count": 26,
   "metadata": {},
   "outputs": [],
   "source": [
    "index, score = sorted(list(enumerate(scores)), key=lambda x: x[1])[-1]"
   ]
  },
  {
   "cell_type": "code",
   "execution_count": 27,
   "metadata": {},
   "outputs": [
    {
     "data": {
      "text/plain": [
       "(0, 0.3891007207790801)"
      ]
     },
     "execution_count": 27,
     "metadata": {},
     "output_type": "execute_result"
    }
   ],
   "source": [
    "index, score"
   ]
  },
  {
   "cell_type": "code",
   "execution_count": 29,
   "metadata": {},
   "outputs": [
    {
     "name": "stdout",
     "output_type": "stream",
     "text": [
      "\n",
      "QUERY: tell me about the galaxy\n",
      "ANS | 0.39: Space Exploration: The shimmering expanse of the cosmos beckons, urging humanity to push beyond Earth's bounds, seeking new worlds and unraveling the universe's ancient mysteries.\n",
      "\n"
     ]
    }
   ],
   "source": [
    "print(f\"\"\"\n",
    "QUERY: {query}\n",
    "ANS | {round(score, 2)}: {documents[index]}\n",
    "\"\"\")"
   ]
  },
  {
   "cell_type": "code",
   "execution_count": null,
   "metadata": {},
   "outputs": [],
   "source": []
  }
 ],
 "metadata": {
  "kernelspec": {
   "display_name": "langchain-brushup",
   "language": "python",
   "name": "python3"
  },
  "language_info": {
   "codemirror_mode": {
    "name": "ipython",
    "version": 3
   },
   "file_extension": ".py",
   "mimetype": "text/x-python",
   "name": "python",
   "nbconvert_exporter": "python",
   "pygments_lexer": "ipython3",
   "version": "3.12.9"
  }
 },
 "nbformat": 4,
 "nbformat_minor": 2
}
