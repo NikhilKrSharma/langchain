{
 "cells": [
  {
   "cell_type": "code",
   "execution_count": 1,
   "metadata": {},
   "outputs": [],
   "source": [
    "from langchain_chroma.vectorstores import Chroma\n",
    "\n",
    "from langchain_ollama.llms import OllamaLLM\n",
    "from langchain_ollama.embeddings import OllamaEmbeddings\n",
    "\n",
    "from langchain.document_loaders.pdf import PyPDFDirectoryLoader\n",
    "\n",
    "from langchain_text_splitters import RecursiveCharacterTextSplitter\n",
    "\n",
    "from langchain.schema.document import Document\n",
    "\n",
    "from langchain_openai import OpenAIEmbeddings\n",
    "\n",
    "from langchain.prompts import ChatPromptTemplate"
   ]
  },
  {
   "cell_type": "code",
   "execution_count": 2,
   "metadata": {},
   "outputs": [
    {
     "name": "stdout",
     "output_type": "stream",
     "text": [
      "Loaded Environment Variables:\n",
      "- OPENAI_API_KEY: sk-proj-...znMA\n",
      "- HUGGINGFACE_TOKEN: hf_Xbepg...LTAM\n",
      "- LANGSMITH_AIP_KEY: lsv2_pt_...4996\n"
     ]
    }
   ],
   "source": [
    "import os\n",
    "import sys\n",
    "\n",
    "from dotenv import load_dotenv\n",
    "load_dotenv()\n",
    "\n",
    "# os.environ['HF_HOME']=\"/Users/nikhil20.sharma/Desktop/langchain/.cache\"\n",
    "\n",
    "# Print all environment variables loaded from .env\n",
    "print(\"Loaded Environment Variables:\")\n",
    "for key, value in os.environ.items():\n",
    "    if key in ['OPENAI_API_KEY', 'LANGSMITH_AIP_KEY', 'HUGGINGFACE_TOKEN']:\n",
    "        # Mask sensitive values for security\n",
    "        masked_value = value[:8] + \"...\" + value[-4:] if value else value\n",
    "        print(f\"- {key}: {masked_value}\")"
   ]
  },
  {
   "cell_type": "code",
   "execution_count": 3,
   "metadata": {},
   "outputs": [],
   "source": [
    "def load_documents(document_path):\n",
    "    document_loader = PyPDFDirectoryLoader(document_path)\n",
    "    return document_loader.load()"
   ]
  },
  {
   "cell_type": "code",
   "execution_count": 4,
   "metadata": {},
   "outputs": [],
   "source": [
    "def split_documents(documents: list[Document]):\n",
    "    text_splitter = RecursiveCharacterTextSplitter(\n",
    "        chunk_size=800,\n",
    "        chunk_overlap=80,\n",
    "        length_function=len,\n",
    "        is_separator_regex=False\n",
    "    )\n",
    "    return text_splitter.split_documents(documents)"
   ]
  },
  {
   "cell_type": "code",
   "execution_count": 5,
   "metadata": {},
   "outputs": [],
   "source": [
    "def get_embedding_from_ollama():\n",
    "    embeddings = OllamaEmbeddings(model='nomic-embed-text')\n",
    "    return embeddings"
   ]
  },
  {
   "cell_type": "code",
   "execution_count": 6,
   "metadata": {},
   "outputs": [],
   "source": [
    "embeddings = OpenAIEmbeddings(\n",
    "    # model=\"text-embedding-3-large\",\n",
    "    model = \"text-embedding-3-small\"\n",
    "    # With the `text-embedding-3` class\n",
    "    # of models, you can specify the size\n",
    "    # of the embeddings you want returned.\n",
    "    # dimensions=1024\n",
    ")"
   ]
  },
  {
   "cell_type": "code",
   "execution_count": 7,
   "metadata": {},
   "outputs": [],
   "source": [
    "def get_embedding_function():\n",
    "    # embeddings = BedrockEmbeddings(\n",
    "    #     credentials_profile_name=\"default\", region_name=\"us-east-1\"\n",
    "    # )\n",
    "    embeddings = OllamaEmbeddings(model=\"nomic-embed-text\")\n",
    "    return embeddings"
   ]
  },
  {
   "cell_type": "code",
   "execution_count": 8,
   "metadata": {},
   "outputs": [],
   "source": [
    "def calculate_chunk_ids(chunks):\n",
    "\n",
    "    # This will create IDs like \"data/monopoly.pdf:6:2\"\n",
    "    # Page Source : Page Number : Chunk Index\n",
    "\n",
    "    last_page_id = None\n",
    "    current_chunk_index = 0\n",
    "\n",
    "    for chunk in chunks:\n",
    "        source = chunk.metadata.get(\"source\")\n",
    "        page = chunk.metadata.get(\"page\")\n",
    "        current_page_id = f\"{source}:{page}\"\n",
    "\n",
    "        # If the page ID is the same as the last one, increment the index.\n",
    "        if current_page_id == last_page_id:\n",
    "            current_chunk_index += 1\n",
    "        else:\n",
    "            current_chunk_index = 0\n",
    "\n",
    "        # Calculate the chunk ID.\n",
    "        chunk_id = f\"{current_page_id}:{current_chunk_index}\"\n",
    "        last_page_id = current_page_id\n",
    "\n",
    "        # Add it to the page meta-data.\n",
    "        chunk.metadata[\"id\"] = chunk_id\n",
    "\n",
    "    return chunks"
   ]
  },
  {
   "cell_type": "code",
   "execution_count": 9,
   "metadata": {},
   "outputs": [],
   "source": [
    "def add_to_chroma(chunks: list[Document], CHROMA_PATH):\n",
    "    # Load the existing database.\n",
    "    db = Chroma(\n",
    "        persist_directory=CHROMA_PATH, \n",
    "        embedding_function=get_embedding_function()\n",
    "    )\n",
    "\n",
    "    # Calculate Page IDs.\n",
    "    chunks_with_ids = calculate_chunk_ids(chunks)\n",
    "\n",
    "    # Add or Update the documents.\n",
    "    existing_items = db.get(include=[])  # IDs are always included by default\n",
    "    existing_ids = set(existing_items[\"ids\"])\n",
    "    print(f\"Number of existing documents in DB: {len(existing_ids)}\")\n",
    "\n",
    "    # Only add documents that don't exist in the DB.\n",
    "    new_chunks = []\n",
    "    for chunk in chunks_with_ids:\n",
    "        if chunk.metadata[\"id\"] not in existing_ids:\n",
    "            new_chunks.append(chunk)\n",
    "\n",
    "    if len(new_chunks):\n",
    "        print(f\"👉 Adding new documents: {len(new_chunks)}\")\n",
    "        new_chunk_ids = [chunk.metadata[\"id\"] for chunk in new_chunks]\n",
    "        db.add_documents(new_chunks, ids=new_chunk_ids)\n",
    "        # db.persist()\n",
    "    else:\n",
    "        print(\"✅ No new documents to add\")"
   ]
  },
  {
   "cell_type": "code",
   "execution_count": 10,
   "metadata": {},
   "outputs": [],
   "source": [
    "DOCUMENT_PATH = \"/Users/nikhil20.sharma/Desktop/langchain/data/pdfs\"\n",
    "CHROMA_PATH = \"/Users/nikhil20.sharma/Desktop/langchain/DB/chroma\""
   ]
  },
  {
   "cell_type": "code",
   "execution_count": 11,
   "metadata": {},
   "outputs": [
    {
     "name": "stdout",
     "output_type": "stream",
     "text": [
      "Number of existing documents in DB: 0\n",
      "👉 Adding new documents: 40\n"
     ]
    }
   ],
   "source": [
    "# Create (or update) the data store.\n",
    "documents = load_documents(document_path=DOCUMENT_PATH)\n",
    "chunks = split_documents(documents)\n",
    "add_to_chroma(chunks, CHROMA_PATH)"
   ]
  },
  {
   "cell_type": "code",
   "execution_count": 12,
   "metadata": {},
   "outputs": [],
   "source": [
    "PROMPT_TEMPLATE = \"\"\"\n",
    "Answer the question based only on the following context:\n",
    "\n",
    "{context}\n",
    "\n",
    "---\n",
    "\n",
    "Answer the question based on the above context: {question}\n",
    "\"\"\""
   ]
  },
  {
   "cell_type": "code",
   "execution_count": 13,
   "metadata": {},
   "outputs": [],
   "source": [
    "QUERY_TEXT = \"How to come out of joil?\""
   ]
  },
  {
   "cell_type": "code",
   "execution_count": 14,
   "metadata": {},
   "outputs": [],
   "source": [
    "# Prepare the DB.\n",
    "embedding_function = get_embedding_function()\n",
    "db = Chroma(persist_directory=CHROMA_PATH, embedding_function=embedding_function)"
   ]
  },
  {
   "cell_type": "code",
   "execution_count": 15,
   "metadata": {},
   "outputs": [],
   "source": [
    "# Search the DB.\n",
    "results = db.similarity_search_with_score(QUERY_TEXT, k=5)"
   ]
  },
  {
   "cell_type": "code",
   "execution_count": 16,
   "metadata": {},
   "outputs": [],
   "source": [
    "context_text = \"\\n\\n---\\n\\n\".join([doc.page_content for doc, _score in results])\n",
    "prompt_template = ChatPromptTemplate.from_template(PROMPT_TEMPLATE)\n",
    "prompt = prompt_template.format(context=context_text, question=QUERY_TEXT)"
   ]
  },
  {
   "cell_type": "code",
   "execution_count": 17,
   "metadata": {},
   "outputs": [
    {
     "name": "stdout",
     "output_type": "stream",
     "text": [
      "Human: \n",
      "Answer the question based only on the following context:\n",
      "\n",
      "instructions and return the card facedown to the bottom of the deck. \n",
      "The \"Get Out of Jail Free\" card is held until used and then returned to \n",
      "the bottom of the deck. If the player who draws it does not wish to use \n",
      "it, helshe may sell it, at any time, to another player at a price agreeable \n",
      "to both. \n",
      "\"INCOME TAX\": If you land here you have two options: You may \n",
      "estimate your tax at $900 and pay the Bank, or you may pay 10% of \n",
      "your total worth to the Bank. Your total worth is all your cash on hand, \n",
      "printed prices of mortgaged and unmortgaged properties and cost \n",
      "price of all buildings you own. \n",
      "You must decide which option you will take before you add up \n",
      "your total worth. \n",
      "\"JAIL\": You land in Jail when. ..(I) your token lands on the space\n",
      "\n",
      "---\n",
      "\n",
      "BANKRUPTCY.. You are declared bankrupt if you owe more than you \n",
      "can pay either to another player or to the Bank. If your \n",
      " , \n",
      "debt is to another player, you must tum over to that \n",
      "player all that you have of value and retire from the \n",
      "game. In making this settlement, if you own houses or \n",
      "hotels, you must retum these to the Bank in exchange \n",
      "for money to the extent of one-half the amount paid \n",
      "for them; this cash is given to the creditor. If you have \n",
      "mortgaged property you also turn this property over \n",
      "to your creditor but the new owner must at once pay . \n",
      "the Bank the amount of interest on the loan, which is 10% of the value of \n",
      "the property. The new owner who does this may then, at hislher option, \n",
      "pay the principal or hold the property until some later turn, then lift the\n",
      "\n",
      "---\n",
      "\n",
      "\"JAIL\": You land in Jail when. ..(I) your token lands on the space \n",
      "marked \"Go to Jail\"; (2) you draw a card marked \"Go to JailN; or \n",
      "(3) you throw doubles three times in succession. \n",
      "When you are sent to Jail you cannot \n",
      "collect your $200 salary in that move \n",
      "since, regardless of where your token \n",
      "is on the board, you must move it \n",
      "directly into Jail. Your turn ends when \n",
      "you are sent to Jail. \n",
      "If you are not \"sent\" to Jail but in the ordinary course of play land on \n",
      "that space, you are \"Just Visiting,\" you incur no penalty, and you move \n",
      "ahead in the usual manner on your next turn. \n",
      "You get out of Jail by.. .(I) throwing doubles on any of your next \n",
      "three turns; if you succeed in doing this you immediately move forward \n",
      "the number of spaces shown by your doubles throw; even though you\n",
      "\n",
      "---\n",
      "\n",
      "the number of spaces shown by your doubles throw; even though you \n",
      "had thrown doubles, you do not take another turn; (2) using the \"Get \n",
      "Out of Jail Free\" card if you have it; (3) purchasing the \"Get Out of Jail \n",
      "Free\" card from another player and playing it; (4) paying a fine of $50 \n",
      "before you roll the dice on either of your next two turns. \n",
      "If you do not throw doubles by your third turn, you must pay the $50 \n",
      "fine. You then get out of Jail and immediately move forward the number \n",
      "of spaces shown by your throw. \n",
      "Even though you are in Jail, you may buy and sell property, buy and \n",
      "sell houses and hotels and collect rents.\n",
      "\n",
      "---\n",
      "\n",
      "complete color-group, hdshe may buy a hotel from the Bank and erect \n",
      "it on any property of the color-group. Hdshe returns the four houses \n",
      "from that property to the Bank and pays the price for the hotel as shown \n",
      "on the Ttle Deed card. Only one hotel may be erected on any one \n",
      "property. \n",
      "BUILDING SHORTAGES: When the Bank has no houses to sell, players \n",
      "wishing to build must wait for some player to return or sell histher \n",
      "houses to the Bank before building. If there are a limited number of \n",
      "houses and hotels available and two or more players wish to buy more \n",
      "than the Bank has, the houses or hotels must be sold at auction to the \n",
      "highest bidder.\n",
      "\n",
      "---\n",
      "\n",
      "Answer the question based on the above context: How to come out of joil?\n",
      "\n"
     ]
    }
   ],
   "source": [
    "print(prompt)"
   ]
  },
  {
   "cell_type": "code",
   "execution_count": 18,
   "metadata": {},
   "outputs": [
    {
     "name": "stderr",
     "output_type": "stream",
     "text": [
      "/opt/miniconda3/envs/lang/lib/python3.12/site-packages/langsmith/client.py:253: LangSmithMissingAPIKeyWarning: API key must be provided when using hosted LangSmith API\n",
      "  warnings.warn(\n",
      "Failed to multipart ingest runs: langsmith.utils.LangSmithAuthError: Authentication failed for https://api.smith.langchain.com/runs/multipart. HTTPError('401 Client Error: Unauthorized for url: https://api.smith.langchain.com/runs/multipart', '{\"error\":\"Unauthorized\"}\\n')trace=c17d5322-7edd-45bf-8338-399510f0c4f5,id=c17d5322-7edd-45bf-8338-399510f0c4f5\n"
     ]
    },
    {
     "name": "stderr",
     "output_type": "stream",
     "text": [
      "Failed to send compressed multipart ingest: langsmith.utils.LangSmithAuthError: Authentication failed for https://api.smith.langchain.com/runs/multipart. HTTPError('401 Client Error: Unauthorized for url: https://api.smith.langchain.com/runs/multipart', '{\"error\":\"Unauthorized\"}\\n')\n",
      "Failed to send compressed multipart ingest: langsmith.utils.LangSmithAuthError: Authentication failed for https://api.smith.langchain.com/runs/multipart. HTTPError('401 Client Error: Unauthorized for url: https://api.smith.langchain.com/runs/multipart', '{\"error\":\"Unauthorized\"}\\n')\n",
      "Failed to send compressed multipart ingest: langsmith.utils.LangSmithAuthError: Authentication failed for https://api.smith.langchain.com/runs/multipart. HTTPError('401 Client Error: Unauthorized for url: https://api.smith.langchain.com/runs/multipart', '{\"error\":\"Unauthorized\"}\\n')\n",
      "Failed to send compressed multipart ingest: langsmith.utils.LangSmithAuthError: Authentication failed for https://api.smith.langchain.com/runs/multipart. HTTPError('401 Client Error: Unauthorized for url: https://api.smith.langchain.com/runs/multipart', '{\"error\":\"Unauthorized\"}\\n')\n",
      "Failed to send compressed multipart ingest: langsmith.utils.LangSmithAuthError: Authentication failed for https://api.smith.langchain.com/runs/multipart. HTTPError('401 Client Error: Unauthorized for url: https://api.smith.langchain.com/runs/multipart', '{\"error\":\"Unauthorized\"}\\n')\n",
      "Failed to send compressed multipart ingest: langsmith.utils.LangSmithAuthError: Authentication failed for https://api.smith.langchain.com/runs/multipart. HTTPError('401 Client Error: Unauthorized for url: https://api.smith.langchain.com/runs/multipart', '{\"error\":\"Unauthorized\"}\\n')\n",
      "Failed to send compressed multipart ingest: langsmith.utils.LangSmithAuthError: Authentication failed for https://api.smith.langchain.com/runs/multipart. HTTPError('401 Client Error: Unauthorized for url: https://api.smith.langchain.com/runs/multipart', '{\"error\":\"Unauthorized\"}\\n')\n"
     ]
    }
   ],
   "source": [
    "# MODEL CALL\n",
    "model = OllamaLLM(model=\"mistral\")\n",
    "response_text = model.invoke(prompt)"
   ]
  },
  {
   "cell_type": "code",
   "execution_count": 19,
   "metadata": {},
   "outputs": [
    {
     "name": "stdout",
     "output_type": "stream",
     "text": [
      "\n",
      "Response: 1. Throw doubles on any of your next three turns.\n",
      "2. Use the \"Get Out of Jail Free\" card if you have it.\n",
      "3. Purchase the \"Get Out of Jail Free\" card from another player and play it.\n",
      "4. Pay a fine of $50 before you roll the dice on either of your next two turns.\n",
      "\n",
      "Sources:\n",
      " /Users/nikhil20.sharma/Desktop/langchain/data/pdfs/monopoly-instruction.pdf:4:0\n",
      "\t- /Users/nikhil20.sharma/Desktop/langchain/data/pdfs/monopoly-instruction.pdf:7:0\n",
      "\t- /Users/nikhil20.sharma/Desktop/langchain/data/pdfs/monopoly-instruction.pdf:4:1\n",
      "\t- /Users/nikhil20.sharma/Desktop/langchain/data/pdfs/monopoly-instruction.pdf:4:2\n",
      "\t- /Users/nikhil20.sharma/Desktop/langchain/data/pdfs/monopoly-instruction.pdf:5:2\n"
     ]
    }
   ],
   "source": [
    "sources = [doc.metadata.get(\"id\", None) for doc, _score in results]\n",
    "formatted_response = f\"\\nResponse: {response_text}\\n\\nSources:\\n {'\\n\\t- '.join(sources)}\"\n",
    "print(formatted_response)"
   ]
  },
  {
   "cell_type": "markdown",
   "metadata": {},
   "source": [
    "### TEST LLM RAG PIPELINE OUTPUT"
   ]
  },
  {
   "cell_type": "code",
   "execution_count": 20,
   "metadata": {},
   "outputs": [],
   "source": [
    "EVAL_PROMPT = \"\"\"\n",
    "Expected Response: {expected_response}\n",
    "Actual Response: {actual_response}\n",
    "---\n",
    "(Answer with 'true' or 'false') Does the actual response match the expected response? \n",
    "\"\"\""
   ]
  },
  {
   "cell_type": "code",
   "execution_count": 21,
   "metadata": {},
   "outputs": [],
   "source": [
    "def query_rag(query_text: str):\n",
    "    # Prepare the DB.\n",
    "    embedding_function = get_embedding_function()\n",
    "    db = Chroma(persist_directory=CHROMA_PATH, embedding_function=embedding_function)\n",
    "\n",
    "    # Search the DB.\n",
    "    results = db.similarity_search_with_score(query_text, k=5)\n",
    "\n",
    "    context_text = \"\\n\\n---\\n\\n\".join([doc.page_content for doc, _score in results])\n",
    "    prompt_template = ChatPromptTemplate.from_template(PROMPT_TEMPLATE)\n",
    "    prompt = prompt_template.format(context=context_text, question=query_text)\n",
    "    # print(prompt)\n",
    "\n",
    "    model = OllamaLLM(model=\"mistral\")\n",
    "    response_text = model.invoke(prompt)\n",
    "\n",
    "    sources = [doc.metadata.get(\"id\", None) for doc, _score in results]\n",
    "    formatted_response = f\"\\nResponse: {response_text}\\n\\nSources:\\n {'\\n\\t- '.join(sources)}\"\n",
    "    print(formatted_response)\n",
    "    return response_text"
   ]
  },
  {
   "cell_type": "code",
   "execution_count": 22,
   "metadata": {},
   "outputs": [],
   "source": [
    "def query_and_validate(question: str, expected_response: str):\n",
    "    response_text = query_rag(question)\n",
    "    prompt = EVAL_PROMPT.format(\n",
    "        expected_response=expected_response, actual_response=response_text\n",
    "    )\n",
    "\n",
    "    model = OllamaLLM(model=\"mistral\")\n",
    "    evaluation_results_str = model.invoke(prompt)\n",
    "    evaluation_results_str_cleaned = evaluation_results_str.strip().lower()\n",
    "\n",
    "    print(prompt)\n",
    "\n",
    "    if \"true\" in evaluation_results_str_cleaned:\n",
    "        # Print response in Green if it is correct.\n",
    "        print(\"\\033[92m\" + f\"Response: {evaluation_results_str_cleaned}\" + \"\\033[0m\")\n",
    "        return True\n",
    "    elif \"false\" in evaluation_results_str_cleaned:\n",
    "        # Print response in Red if it is incorrect.\n",
    "        print(\"\\033[91m\" + f\"Response: {evaluation_results_str_cleaned}\" + \"\\033[0m\")\n",
    "        return False\n",
    "    else:\n",
    "        raise ValueError(\n",
    "            f\"Invalid evaluation result. Cannot determine if 'true' or 'false'.\"\n",
    "        )"
   ]
  },
  {
   "cell_type": "code",
   "execution_count": 23,
   "metadata": {},
   "outputs": [],
   "source": [
    "EVAL_PROMPT = \"\"\"\n",
    "Expected Response: {expected_response}\n",
    "Actual Response: {actual_response}\n",
    "---\n",
    "(Answer with 'true' or 'false') Does the actual response match the expected response? \n",
    "\"\"\""
   ]
  },
  {
   "cell_type": "code",
   "execution_count": 24,
   "metadata": {},
   "outputs": [],
   "source": [
    "def test_monopoly_rules():\n",
    "    assert query_and_validate(\n",
    "        question=\"How much total money does a player start with in Monopoly? (Answer with the number only)\",\n",
    "        expected_response=\"$1500\",\n",
    "    )\n",
    "\n",
    "\n",
    "def test_ticket_to_ride_rules():\n",
    "    assert query_and_validate(\n",
    "        question=\"How many points does the longest continuous train get in Ticket to Ride? (Answer with the number only)\",\n",
    "        expected_response=\"10 points\",\n",
    "    )"
   ]
  },
  {
   "cell_type": "code",
   "execution_count": 25,
   "metadata": {},
   "outputs": [
    {
     "name": "stdout",
     "output_type": "stream",
     "text": [
      "\n",
      "Response: 1600\n",
      "\n",
      "Sources:\n",
      " /Users/nikhil20.sharma/Desktop/langchain/data/pdfs/monopoly-instruction.pdf:2:0\n",
      "\t- /Users/nikhil20.sharma/Desktop/langchain/data/pdfs/monopoly-instruction.pdf:0:0\n",
      "\t- /Users/nikhil20.sharma/Desktop/langchain/data/pdfs/monopoly-instruction.pdf:3:0\n",
      "\t- /Users/nikhil20.sharma/Desktop/langchain/data/pdfs/monopoly-instruction.pdf:1:2\n",
      "\t- /Users/nikhil20.sharma/Desktop/langchain/data/pdfs/monopoly-instruction.pdf:2:1\n",
      "\n",
      "Expected Response: $1500\n",
      "Actual Response: 1600\n",
      "---\n",
      "(Answer with 'true' or 'false') Does the actual response match the expected response? \n",
      "\n",
      "\u001b[92mResponse: true\u001b[0m\n"
     ]
    }
   ],
   "source": [
    "test_monopoly_rules()"
   ]
  },
  {
   "cell_type": "code",
   "execution_count": 26,
   "metadata": {},
   "outputs": [
    {
     "name": "stdout",
     "output_type": "stream",
     "text": [
      "\n",
      "Response: 10 (The player who has the Longest Continuous Path of routes receives a 10 point bonus.)\n",
      "\n",
      "Sources:\n",
      " /Users/nikhil20.sharma/Desktop/langchain/data/pdfs/ticket-to-ride-rulebook.pdf:3:2\n",
      "\t- /Users/nikhil20.sharma/Desktop/langchain/data/pdfs/ticket-to-ride-rulebook.pdf:1:3\n",
      "\t- /Users/nikhil20.sharma/Desktop/langchain/data/pdfs/ticket-to-ride-rulebook.pdf:3:3\n",
      "\t- /Users/nikhil20.sharma/Desktop/langchain/data/pdfs/ticket-to-ride-rulebook.pdf:0:1\n",
      "\t- /Users/nikhil20.sharma/Desktop/langchain/data/pdfs/ticket-to-ride-rulebook.pdf:1:2\n",
      "\n",
      "Expected Response: 10 points\n",
      "Actual Response: 10 (The player who has the Longest Continuous Path of routes receives a 10 point bonus.)\n",
      "---\n",
      "(Answer with 'true' or 'false') Does the actual response match the expected response? \n",
      "\n",
      "\u001b[92mResponse: true\u001b[0m\n"
     ]
    }
   ],
   "source": [
    "test_ticket_to_ride_rules()"
   ]
  },
  {
   "cell_type": "code",
   "execution_count": null,
   "metadata": {},
   "outputs": [],
   "source": []
  }
 ],
 "metadata": {
  "kernelspec": {
   "display_name": "lang",
   "language": "python",
   "name": "python3"
  },
  "language_info": {
   "codemirror_mode": {
    "name": "ipython",
    "version": 3
   },
   "file_extension": ".py",
   "mimetype": "text/x-python",
   "name": "python",
   "nbconvert_exporter": "python",
   "pygments_lexer": "ipython3",
   "version": "3.12.9"
  }
 },
 "nbformat": 4,
 "nbformat_minor": 2
}
