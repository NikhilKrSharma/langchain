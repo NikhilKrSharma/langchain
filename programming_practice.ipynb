{
 "cells": [
  {
   "cell_type": "code",
   "execution_count": 3,
   "metadata": {},
   "outputs": [],
   "source": [
    "# https://www.analyticsvidhya.com/articles/python-coding-interview-questions/"
   ]
  },
  {
   "cell_type": "markdown",
   "metadata": {},
   "source": [
    "### Question 1: Write a Python program to Reverse a String."
   ]
  },
  {
   "cell_type": "code",
   "execution_count": 2,
   "metadata": {},
   "outputs": [
    {
     "data": {
      "text/plain": [
       "'amrahS lihkiN'"
      ]
     },
     "execution_count": 2,
     "metadata": {},
     "output_type": "execute_result"
    }
   ],
   "source": [
    "def reverse_string(s):\n",
    "    return s[::-1]\n",
    "\n",
    "reverse_string(\"Nikhil Sharma\")"
   ]
  },
  {
   "cell_type": "code",
   "execution_count": 2,
   "metadata": {},
   "outputs": [
    {
     "data": {
      "text/plain": [
       "'amrahS lihkiN'"
      ]
     },
     "execution_count": 2,
     "metadata": {},
     "output_type": "execute_result"
    }
   ],
   "source": [
    "def reverse_string(s):\n",
    "\n",
    "    rev_string = ''\n",
    "    for char in s:\n",
    "        rev_string = char + rev_string\n",
    "        \n",
    "    return rev_string\n",
    "\n",
    "reverse_string(\"Nikhil Sharma\")"
   ]
  },
  {
   "cell_type": "markdown",
   "metadata": {},
   "source": [
    "### Question 2: Write a Python program to Check Palindrome."
   ]
  },
  {
   "cell_type": "code",
   "execution_count": null,
   "metadata": {},
   "outputs": [],
   "source": [
    "def palindrome_check(s):\n",
    "    if isinstance(s, int):\n",
    "        s = str(s)\n",
    "        \n",
    "    str_len = len(s)\n",
    "    \n",
    "    mid = int(str_len/2)\n",
    "\n",
    "    first_half = s[:mid]\n",
    "    second_half = s[mid:]\n",
    "    second_half_rev = second_half[::-1]\n",
    "    \n",
    "    pal_check = True\n",
    "    for f, s in zip(first_half, second_half_rev):\n",
    "        if f != s:\n",
    "            pal_check = False\n",
    "            break\n",
    "        \n",
    "    return pal_check\n",
    "        \n",
    "print(palindrome_check(2332))"
   ]
  },
  {
   "cell_type": "markdown",
   "metadata": {},
   "source": [
    "### Question 3: Write a Python program to Count Vowels in a String."
   ]
  },
  {
   "cell_type": "code",
   "execution_count": 8,
   "metadata": {},
   "outputs": [
    {
     "name": "stdout",
     "output_type": "stream",
     "text": [
      "2\n"
     ]
    }
   ],
   "source": [
    "def count_vowel(s):\n",
    "    \n",
    "    vowels = 'aeiou'\n",
    "    \n",
    "    count = sum([1 for v in s.lower() if v in vowels])\n",
    "    \n",
    "    return count\n",
    "        \n",
    "print(count_vowel('Nikhil'))"
   ]
  },
  {
   "cell_type": "markdown",
   "metadata": {},
   "source": [
    "### Question 4: Write a Python program to find Factorial with Recursion."
   ]
  },
  {
   "cell_type": "code",
   "execution_count": 9,
   "metadata": {},
   "outputs": [
    {
     "name": "stdout",
     "output_type": "stream",
     "text": [
      "24\n"
     ]
    }
   ],
   "source": [
    "def fact(n):\n",
    "    if n==0 or n==1:\n",
    "        return 1\n",
    "    else:\n",
    "        return n * fact(n-1)\n",
    "        \n",
    "        \n",
    "print(fact(4))"
   ]
  },
  {
   "cell_type": "code",
   "execution_count": null,
   "metadata": {},
   "outputs": [],
   "source": [
    "def fact(n):\n",
    "    if n==0 or n==1:\n",
    "        return 1\n",
    "        \n",
    "    fact = 1\n",
    "    for x in range(n, 1, -1):\n",
    "        fact *= x\n",
    "                \n",
    "    return fact\n",
    "        \n",
    "print(fact(5))"
   ]
  },
  {
   "cell_type": "markdown",
   "metadata": {},
   "source": [
    "### Question 5: Write a Python program to find Fibonacci Sequence."
   ]
  },
  {
   "cell_type": "code",
   "execution_count": 10,
   "metadata": {},
   "outputs": [
    {
     "name": "stdout",
     "output_type": "stream",
     "text": [
      "[0, 1, 1, 2, 3, 5, 8, 13, 21, 34]\n"
     ]
    }
   ],
   "source": [
    "def fabonacchi(n):\n",
    "    \n",
    "    fab = [0, 1]\n",
    "    \n",
    "    for i in range(2, n):\n",
    "        fab_val = fab[-1] + fab[-2]\n",
    "        fab.append(fab_val)\n",
    "\n",
    "    return fab\n",
    "\n",
    "print(fabonacchi(10))"
   ]
  },
  {
   "cell_type": "markdown",
   "metadata": {},
   "source": [
    "### Question 7: Write a Python program to find Anagram Check."
   ]
  },
  {
   "cell_type": "code",
   "execution_count": 11,
   "metadata": {},
   "outputs": [
    {
     "name": "stdout",
     "output_type": "stream",
     "text": [
      "True\n"
     ]
    }
   ],
   "source": [
    "def anagram(s1, s2):\n",
    "    \n",
    "    s1 = sorted(s1)\n",
    "    s2 = sorted(s2)\n",
    "    \n",
    "    return s1==s2\n",
    "    \n",
    "print(anagram('asdf', 'fdsa'))"
   ]
  },
  {
   "cell_type": "code",
   "execution_count": 12,
   "metadata": {},
   "outputs": [
    {
     "name": "stdout",
     "output_type": "stream",
     "text": [
      "False\n"
     ]
    }
   ],
   "source": [
    "def anagram(s1, s2):\n",
    "    \n",
    "    if len(s1)!=len(s2):\n",
    "        return False\n",
    "        \n",
    "    check2 = [True if char in s2 else False for char in s1]\n",
    "    \n",
    "    if False in check2:\n",
    "        return False\n",
    "    \n",
    "    return True\n",
    "    \n",
    "print(anagram('asdf', 'fdwa'))"
   ]
  },
  {
   "cell_type": "markdown",
   "metadata": {},
   "source": [
    "### Question 8: Write a Python program to find Prime Numbers."
   ]
  },
  {
   "cell_type": "code",
   "execution_count": 14,
   "metadata": {},
   "outputs": [
    {
     "name": "stdout",
     "output_type": "stream",
     "text": [
      "[2, 3, 5, 7, 11, 13, 17, 19, 23, 29, 31, 37, 41, 43, 47, 53, 59, 61, 67, 71, 73, 79, 83, 89, 97]\n"
     ]
    }
   ],
   "source": [
    "def prime_check_func(n):\n",
    "    \n",
    "    if n <= 1: \n",
    "        return False\n",
    "    \n",
    "    for x in range(2, int(n/2)+1):\n",
    "        if n%x==0:\n",
    "            return False\n",
    "            \n",
    "    return True\n",
    "\n",
    "\n",
    "def find_primes(start, end):\n",
    "    found_primes = []\n",
    "    \n",
    "    for x in range(start, end+1):\n",
    "        \n",
    "        prime_check = prime_check_func(x)\n",
    "        if prime_check is True:\n",
    "            found_primes.append(x)\n",
    "            \n",
    "    return found_primes\n",
    "\n",
    "prime_numbers = find_primes(start=1, end=100)\n",
    "print(prime_numbers)"
   ]
  },
  {
   "cell_type": "markdown",
   "metadata": {},
   "source": [
    "### Question 9: Write a Python program to check for Pangram.\n",
    "A pangram is a sentence that contains every letter of the alphabet at least once"
   ]
  },
  {
   "cell_type": "code",
   "execution_count": 15,
   "metadata": {},
   "outputs": [
    {
     "name": "stdout",
     "output_type": "stream",
     "text": [
      "True\n"
     ]
    }
   ],
   "source": [
    "import string\n",
    "\n",
    "def check_panagram(s):\n",
    "    s = s.lower()\n",
    "    s_unique = set(s)\n",
    "    s_unique.discard(\" \")\n",
    "    s_unique.difference_update(set(string.punctuation))\n",
    "    \n",
    "    if len(s_unique) == 26:\n",
    "        return True\n",
    "    else:\n",
    "        return False\n",
    "        \n",
    "    \n",
    "print(check_panagram(\"The quick brown fox jumps over the lazy dog\"))"
   ]
  },
  {
   "cell_type": "code",
   "execution_count": 16,
   "metadata": {},
   "outputs": [
    {
     "name": "stdout",
     "output_type": "stream",
     "text": [
      "True\n"
     ]
    }
   ],
   "source": [
    "def check_panagram(s):\n",
    "    \n",
    "    check_for = 'abcdefghijklmnopqrstuvwxyz'\n",
    "    check = True\n",
    "    \n",
    "    s = s.lower()\n",
    "    s_unique = set(s)\n",
    "\n",
    "    for char in check_for:\n",
    "        if char not in s_unique:\n",
    "            check = False\n",
    "            break\n",
    "            \n",
    "    return check\n",
    "\n",
    "print(check_panagram(\"The quick brown fox jumps over the lazy dog\"))"
   ]
  },
  {
   "cell_type": "markdown",
   "metadata": {},
   "source": [
    "### Question 11: Write a Python program to find the Minimum Element in a List."
   ]
  },
  {
   "cell_type": "code",
   "execution_count": 17,
   "metadata": {},
   "outputs": [
    {
     "name": "stdout",
     "output_type": "stream",
     "text": [
      "-9\n"
     ]
    }
   ],
   "source": [
    "def find_min(lis):\n",
    "    min = float('inf')\n",
    "    \n",
    "    for i in lis:\n",
    "        if i < min:\n",
    "            min = i\n",
    "            \n",
    "    return min\n",
    "    \n",
    "    \n",
    "print(find_min([10, 23, 45, 67, 12, 89, 34, 4, -9]))"
   ]
  },
  {
   "cell_type": "markdown",
   "metadata": {},
   "source": [
    "### Question 20: Write a Python program to Find the Maximum Difference between Two Elements in a List."
   ]
  },
  {
   "cell_type": "code",
   "execution_count": 18,
   "metadata": {},
   "outputs": [
    {
     "name": "stdout",
     "output_type": "stream",
     "text": [
      "45\n"
     ]
    }
   ],
   "source": [
    "def find_second_largest_element(lis):\n",
    "    largest = float('-inf')\n",
    "    second_largest = float('-inf')\n",
    "    \n",
    "    for i in lis:\n",
    "        if i > largest: \n",
    "            second_largest = largest\n",
    "            largest = i\n",
    "        elif i > second_largest and i != largest:\n",
    "            second_largest = i\n",
    "            \n",
    "    return second_largest\n",
    "    \n",
    "    \n",
    "print(find_second_largest_element([10, 30, 20, 40, 50, 45]))"
   ]
  },
  {
   "cell_type": "code",
   "execution_count": 19,
   "metadata": {},
   "outputs": [
    {
     "name": "stdout",
     "output_type": "stream",
     "text": [
      "45\n"
     ]
    }
   ],
   "source": [
    "def find_second_largest_element(lis):\n",
    "    \n",
    "    return sorted(lis)[-2]\n",
    "    \n",
    "    \n",
    "print(find_second_largest_element([10, 30, 20, 40, 50, 45]))"
   ]
  },
  {
   "cell_type": "code",
   "execution_count": 20,
   "metadata": {},
   "outputs": [
    {
     "name": "stdout",
     "output_type": "stream",
     "text": [
      "45\n"
     ]
    }
   ],
   "source": [
    "def find_second_largest_element(lis):\n",
    "    \n",
    "    return sorted(lis, reverse=True)[1]\n",
    "    \n",
    "    \n",
    "print(find_second_largest_element([10, 30, 20, 40, 50, 45]))"
   ]
  },
  {
   "cell_type": "markdown",
   "metadata": {},
   "source": [
    "### Question 21: Find the longest substring without repeating characters"
   ]
  },
  {
   "cell_type": "code",
   "execution_count": 23,
   "metadata": {},
   "outputs": [
    {
     "name": "stdout",
     "output_type": "stream",
     "text": [
      "Longest substring without repeating characters: basdfgh\n"
     ]
    }
   ],
   "source": [
    "def longest_unique_substring(s: str) -> str:\n",
    "    start = 0\n",
    "    max_len = 0\n",
    "    used_char = {}\n",
    "    longest_sub = \"\"\n",
    "    \n",
    "    for i, char in enumerate(s):\n",
    "        if char in used_char and start <= used_char[char]:\n",
    "            start = used_char[char] + 1\n",
    "        else:\n",
    "            if i - start + 1 > max_len:\n",
    "                max_len = i - start + 1\n",
    "                longest_sub = s[start:i+1]\n",
    "        used_char[char] = i\n",
    "    return longest_sub\n",
    "\n",
    "# Example usage:\n",
    "input_str = \"abcabcbbbbbasdfgh\"\n",
    "print(\"Longest substring without repeating characters:\",\n",
    "      longest_unique_substring(input_str))"
   ]
  },
  {
   "cell_type": "markdown",
   "metadata": {},
   "source": [
    "1. Maximum Sum Subarray of Size k  \n",
    "Given an array of integers and a number k, find the maximum sum of any contiguous subarray of size k.\n",
    "\n",
    "2. Longest Substring with At Most k Distinct Characters  \n",
    "Given a string and an integer k, find the longest substring that contains at most k distinct characters.\n",
    "\n",
    "3. Minimum Window Substring  \n",
    "Given two strings s and t, find the smallest substring in s that contains all the characters in t."
   ]
  },
  {
   "cell_type": "code",
   "execution_count": 1,
   "metadata": {},
   "outputs": [
    {
     "data": {
      "text/plain": [
       "2"
      ]
     },
     "execution_count": 1,
     "metadata": {},
     "output_type": "execute_result"
    }
   ],
   "source": [
    "def max_repeating(sequence: str, word: str) -> int:\n",
    "    # TODO: implement\n",
    " \n",
    "    count = 0\n",
    "    max_seq_count = 0\n",
    " \n",
    "    i = 0\n",
    "    while i <= len(sequence):\n",
    "      # print(i)\n",
    "      if word==sequence[i:len(word)+i]:\n",
    "        count +=1\n",
    "        i += len(word)\n",
    "        max_seq_count = max(count, max_seq_count)\n",
    " \n",
    "      else:\n",
    "        i += 1\n",
    "        count = 0\n",
    " \n",
    "    return max_seq_count\n",
    " \n",
    "    # return 0\n",
    " \n",
    "max_repeating('abdfaababidiaoab', 'ab')"
   ]
  }
 ],
 "metadata": {
  "kernelspec": {
   "display_name": "lang",
   "language": "python",
   "name": "python3"
  },
  "language_info": {
   "codemirror_mode": {
    "name": "ipython",
    "version": 3
   },
   "file_extension": ".py",
   "mimetype": "text/x-python",
   "name": "python",
   "nbconvert_exporter": "python",
   "pygments_lexer": "ipython3",
   "version": "3.10.16"
  }
 },
 "nbformat": 4,
 "nbformat_minor": 2
}
