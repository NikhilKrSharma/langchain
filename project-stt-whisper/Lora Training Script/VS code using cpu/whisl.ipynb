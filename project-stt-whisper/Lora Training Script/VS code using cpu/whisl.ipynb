{
 "cells": [
  {
   "cell_type": "markdown",
   "metadata": {},
   "source": [
    "Load Dataset"
   ]
  },
  {
   "cell_type": "code",
   "execution_count": null,
   "metadata": {},
   "outputs": [
    {
     "data": {
      "application/vnd.jupyter.widget-view+json": {
       "model_id": "dde2a515089d46e18eb7bf9c7dc76809",
       "version_major": 2,
       "version_minor": 0
      },
      "text/plain": [
       "Generating train split: 0 examples [00:00, ? examples/s]"
      ]
     },
     "metadata": {},
     "output_type": "display_data"
    },
    {
     "name": "stdout",
     "output_type": "stream",
     "text": [
      "Dataset({\n",
      "    features: ['audio', 'text', 'gender'],\n",
      "    num_rows: 1183\n",
      "})\n"
     ]
    }
   ],
   "source": [
    "from datasets import load_dataset\n",
    "\n",
    "dataset_path = \"train-00000-of-00010.parquet\"  # Update your path\n",
    "dataset = load_dataset(\"parquet\", data_files=dataset_path)[\"train\"]\n",
    "\n",
    "print(dataset)\n"
   ]
  },
  {
   "cell_type": "markdown",
   "metadata": {},
   "source": [
    "Count and hours of Dataset"
   ]
  },
  {
   "cell_type": "code",
   "execution_count": null,
   "metadata": {},
   "outputs": [
    {
     "name": "stdout",
     "output_type": "stream",
     "text": [
      "Total Audio Files: 1183\n",
      "Total Duration (hours): 2.74\n"
     ]
    }
   ],
   "source": [
    "num_audio_files = len(dataset)\n",
    "\n",
    "total_duration_sec = sum(audio[\"array\"].shape[0] / audio[\"sampling_rate\"] for audio in dataset[\"audio\"])\n",
    "\n",
    "total_duration_hours = total_duration_sec / 3600\n",
    "\n",
    "print(f\"Total Audio Files: {num_audio_files}\")\n",
    "print(f\"Total Duration (hours): {total_duration_hours:.2f}\")\n"
   ]
  },
  {
   "cell_type": "code",
   "execution_count": null,
   "metadata": {},
   "outputs": [
    {
     "name": "stdout",
     "output_type": "stream",
     "text": [
      "Dataset({\n",
      "    features: ['audio', 'text'],\n",
      "    num_rows: 1183\n",
      "})\n"
     ]
    }
   ],
   "source": [
    "dataset = dataset.remove_columns([\"gender\"])\n",
    "print(dataset)\n"
   ]
  },
  {
   "cell_type": "markdown",
   "metadata": {},
   "source": [
    "Load the Models"
   ]
  },
  {
   "cell_type": "code",
   "execution_count": null,
   "metadata": {},
   "outputs": [],
   "source": [
    "from transformers import WhisperFeatureExtractor\n",
    "\n",
    "feature_extractor = WhisperFeatureExtractor.from_pretrained(\"openai/whisper-tiny\")\n"
   ]
  },
  {
   "cell_type": "code",
   "execution_count": null,
   "metadata": {},
   "outputs": [],
   "source": [
    "from transformers import WhisperTokenizer\n",
    "\n",
    "modelname = \"openai/whisper-tiny\"\n",
    "language= \"hi\"  # Hindi\n",
    "task = \"transcribe\"\n",
    "tokenizer = WhisperTokenizer.from_pretrained(modelname, language=language, task=task)\n"
   ]
  },
  {
   "cell_type": "code",
   "execution_count": null,
   "metadata": {},
   "outputs": [],
   "source": [
    "from transformers import WhisperProcessor\n",
    "\n",
    "modelname = \"openai/whisper-tiny\"\n",
    "language = \"hindi\"\n",
    "task = \"transcribe\"\n",
    "processor = WhisperProcessor.from_pretrained(modelname, language=language, task=task)\n"
   ]
  },
  {
   "cell_type": "markdown",
   "metadata": {},
   "source": [
    "To convert sampling rate"
   ]
  },
  {
   "cell_type": "code",
   "execution_count": 11,
   "metadata": {},
   "outputs": [],
   "source": [
    "from datasets import Audio\n",
    "\n",
    "dataset = dataset.cast_column(\"audio\", Audio(sampling_rate=16000))\n"
   ]
  },
  {
   "cell_type": "markdown",
   "metadata": {},
   "source": [
    "Function to prepae the data for model"
   ]
  },
  {
   "cell_type": "code",
   "execution_count": null,
   "metadata": {},
   "outputs": [],
   "source": [
    "def prepare_dataset(batch, feature_extractor, tokenizer):\n",
    "    audio = batch[\"audio\"]\n",
    "    \n",
    "    batch[\"input_features\"] = feature_extractor(audio[\"array\"],\n",
    "        sampling_rate=audio[\"sampling_rate\"]).input_features[0]\n",
    "    \n",
    "    batch[\"labels\"] = tokenizer(batch[\"text\"]).input_ids\n",
    "    \n",
    "    return batch"
   ]
  },
  {
   "cell_type": "markdown",
   "metadata": {},
   "source": [
    "Data Collator"
   ]
  },
  {
   "cell_type": "code",
   "execution_count": null,
   "metadata": {},
   "outputs": [],
   "source": [
    "import torch\n",
    "from dataclasses import dataclass\n",
    "from typing import Any, Dict, List, Union\n",
    "\n",
    "@dataclass  # <-- This decorator is required\n",
    "class DataCollatorSpeechSeq2SeqWithPadding:\n",
    "    processor: Any\n",
    "\n",
    "    def __call__(self, features: List[Dict[str, Union[List[int], torch.Tensor]]]) -> Dict[str, torch.Tensor]:\n",
    "        \n",
    "        input_features = [{\"input_features\": feature[\"input_features\"]} for feature in features]\n",
    "        batch = self.processor.feature_extractor.pad(input_features, return_tensors=\"pt\")\n",
    "\n",
    "        \n",
    "        label_features = [{\"input_ids\": feature[\"labels\"]} for feature in features]\n",
    "        labels_batch = self.processor.tokenizer.pad(label_features, return_tensors=\"pt\")\n",
    "        \n",
    "        labels = labels_batch[\"input_ids\"].masked_fill(labels_batch.attention_mask.ne(1), -100)\n",
    "\n",
    "        if (labels[:, 0] == self.processor.tokenizer.bos_token_id).all().cpu().item():\n",
    "            labels = labels[:, 1:]\n",
    "\n",
    "        batch[\"labels\"] = labels\n",
    "        return batch\n",
    "\n",
    "\n",
    "data_collator = DataCollatorSpeechSeq2SeqWithPadding(processor=processor)"
   ]
  },
  {
   "cell_type": "markdown",
   "metadata": {},
   "source": [
    "PreProcessing And Mapping"
   ]
  },
  {
   "cell_type": "code",
   "execution_count": 14,
   "metadata": {},
   "outputs": [
    {
     "data": {
      "application/vnd.jupyter.widget-view+json": {
       "model_id": "d72d3f8ecf144495bc247a200d15b138",
       "version_major": 2,
       "version_minor": 0
      },
      "text/plain": [
       "Map (num_proc=2):   0%|          | 0/1183 [00:00<?, ? examples/s]"
      ]
     },
     "metadata": {},
     "output_type": "display_data"
    }
   ],
   "source": [
    "dataset = dataset.map(\n",
    "    prepare_dataset,\n",
    "    fn_kwargs={\n",
    "        \"feature_extractor\": feature_extractor,\n",
    "        \"tokenizer\": tokenizer\n",
    "    },\n",
    "    remove_columns=dataset.column_names,\n",
    "    num_proc=2\n",
    ")"
   ]
  },
  {
   "cell_type": "markdown",
   "metadata": {},
   "source": [
    "Prepare Model For Fine Tuning"
   ]
  },
  {
   "cell_type": "code",
   "execution_count": null,
   "metadata": {},
   "outputs": [
    {
     "name": "stdout",
     "output_type": "stream",
     "text": [
      "trainable params: 589,824 || all params: 38,350,464 || trainable%: 1.5380\n"
     ]
    }
   ],
   "source": [
    "from transformers import WhisperForConditionalGeneration\n",
    "from transformers import Seq2SeqTrainingArguments\n",
    "\n",
    "model = WhisperForConditionalGeneration.from_pretrained(\n",
    "    modelname,\n",
    "    device_map=\"auto\",\n",
    "    torch_dtype=torch.float32\n",
    ")\n",
    "\n",
    "def make_inputs_require_grad(module, input, output):\n",
    "    output.requires_grad_(True)\n",
    "model.model.encoder.conv1.register_forward_hook(make_inputs_require_grad)\n",
    "\n",
    "from peft import LoraConfig, get_peft_model\n",
    "\n",
    "config = LoraConfig(\n",
    "    r=32,\n",
    "    lora_alpha=64,\n",
    "    target_modules=[\"q_proj\", \"v_proj\"],\n",
    "    lora_dropout=0.05,\n",
    "    bias=\"none\"\n",
    ")\n",
    "\n",
    "model = get_peft_model(model, config)\n",
    "model.print_trainable_parameters()\n",
    "\n",
    "training_args = Seq2SeqTrainingArguments(\n",
    "    output_dir=\"./whisper-finetuned-hindi\",\n",
    "    per_device_train_batch_size=8,\n",
    "    gradient_accumulation_steps=1,\n",
    "    learning_rate=1e-3,\n",
    "    warmup_steps=50,\n",
    "    num_train_epochs=6,\n",
    "    evaluation_strategy=\"no\",\n",
    "    fp16=False,\n",
    "    per_device_eval_batch_size=8,\n",
    "    generation_max_length=128,\n",
    "    logging_steps=100,\n",
    "    save_strategy=\"epoch\",\n",
    "    save_total_limit=2,\n",
    "    remove_unused_columns=False,\n",
    "    label_names=[\"labels\"],\n",
    "    load_best_model_at_end=False,\n",
    ")\n"
   ]
  },
  {
   "cell_type": "code",
   "execution_count": null,
   "metadata": {},
   "outputs": [
    {
     "name": "stderr",
     "output_type": "stream",
     "text": [
      "C:\\Users\\delso\\AppData\\Local\\Temp\\ipykernel_13872\\83348941.py:33: FutureWarning: `tokenizer` is deprecated and will be removed in version 5.0.0 for `Seq2SeqTrainer.__init__`. Use `processing_class` instead.\n",
      "  trainer = Seq2SeqTrainer(\n"
     ]
    },
    {
     "data": {
      "text/html": [
       "\n",
       "    <div>\n",
       "      \n",
       "      <progress value='888' max='888' style='width:300px; height:20px; vertical-align: middle;'></progress>\n",
       "      [888/888 1:25:54, Epoch 6/6]\n",
       "    </div>\n",
       "    <table border=\"1\" class=\"dataframe\">\n",
       "  <thead>\n",
       " <tr style=\"text-align: left;\">\n",
       "      <th>Step</th>\n",
       "      <th>Training Loss</th>\n",
       "    </tr>\n",
       "  </thead>\n",
       "  <tbody>\n",
       "    <tr>\n",
       "      <td>100</td>\n",
       "      <td>1.180400</td>\n",
       "    </tr>\n",
       "    <tr>\n",
       "      <td>200</td>\n",
       "      <td>0.326100</td>\n",
       "    </tr>\n",
       "    <tr>\n",
       "      <td>300</td>\n",
       "      <td>0.241700</td>\n",
       "    </tr>\n",
       "    <tr>\n",
       "      <td>400</td>\n",
       "      <td>0.170600</td>\n",
       "    </tr>\n",
       "    <tr>\n",
       "      <td>500</td>\n",
       "      <td>0.143600</td>\n",
       "    </tr>\n",
       "    <tr>\n",
       "      <td>600</td>\n",
       "      <td>0.116100</td>\n",
       "    </tr>\n",
       "    <tr>\n",
       "      <td>700</td>\n",
       "      <td>0.086800</td>\n",
       "    </tr>\n",
       "    <tr>\n",
       "      <td>800</td>\n",
       "      <td>0.074500</td>\n",
       "    </tr>\n",
       "  </tbody>\n",
       "</table><p>"
      ],
      "text/plain": [
       "<IPython.core.display.HTML object>"
      ]
     },
     "metadata": {},
     "output_type": "display_data"
    }
   ],
   "source": [
    "import os\n",
    "import torch\n",
    "from transformers import (\n",
    "    Seq2SeqTrainer,\n",
    "    TrainerCallback,\n",
    "    TrainingArguments,\n",
    "    TrainerState,\n",
    "    TrainerControl\n",
    ")\n",
    "from peft import LoraConfig, get_peft_model\n",
    "from transformers.trainer_utils import PREFIX_CHECKPOINT_DIR\n",
    "\n",
    "class SavePeftModelCallback(TrainerCallback):\n",
    "    def on_save(\n",
    "        self,\n",
    "        args: TrainingArguments,\n",
    "        state: TrainerState,\n",
    "        control: TrainerControl,\n",
    "        **kwargs,):\n",
    "        checkpoint_folder = os.path.join(args.output_dir, f\"{PREFIX_CHECKPOINT_DIR}-{state.global_step}\")\n",
    "        peft_model_path = os.path.join(checkpoint_folder, \"adapter_model\")\n",
    "        kwargs[\"model\"].save_pretrained(peft_model_path)\n",
    "        \n",
    "        pytorch_model_path = os.path.join(checkpoint_folder, \"pytorch_model.bin\")\n",
    "        if os.path.exists(pytorch_model_path):\n",
    "            os.remove(pytorch_model_path)\n",
    "        return control\n",
    "\n",
    "trainer = Seq2SeqTrainer(\n",
    "    args=training_args,\n",
    "    model=model,\n",
    "    train_dataset=dataset,\n",
    "    data_collator=data_collator,\n",
    "    tokenizer=processor.feature_extractor,\n",
    "    callbacks=[SavePeftModelCallback],\n",
    ")\n",
    "\n",
    "model.config.use_cache = False\n",
    "trainer.train()\n",
    "model.save_pretrained(\"./whisper-hindi-lora-final\")"
   ]
  },
  {
   "cell_type": "markdown",
   "metadata": {},
   "source": [
    "Load Saved Model"
   ]
  },
  {
   "cell_type": "code",
   "execution_count": null,
   "metadata": {},
   "outputs": [
    {
     "data": {
      "text/plain": [
       "WhisperForConditionalGeneration(\n",
       "  (model): WhisperModel(\n",
       "    (encoder): WhisperEncoder(\n",
       "      (conv1): Conv1d(80, 384, kernel_size=(3,), stride=(1,), padding=(1,))\n",
       "      (conv2): Conv1d(384, 384, kernel_size=(3,), stride=(2,), padding=(1,))\n",
       "      (embed_positions): Embedding(1500, 384)\n",
       "      (layers): ModuleList(\n",
       "        (0-3): 4 x WhisperEncoderLayer(\n",
       "          (self_attn): WhisperSdpaAttention(\n",
       "            (k_proj): Linear(in_features=384, out_features=384, bias=False)\n",
       "            (v_proj): Linear(in_features=384, out_features=384, bias=True)\n",
       "            (q_proj): Linear(in_features=384, out_features=384, bias=True)\n",
       "            (out_proj): Linear(in_features=384, out_features=384, bias=True)\n",
       "          )\n",
       "          (self_attn_layer_norm): LayerNorm((384,), eps=1e-05, elementwise_affine=True)\n",
       "          (activation_fn): GELUActivation()\n",
       "          (fc1): Linear(in_features=384, out_features=1536, bias=True)\n",
       "          (fc2): Linear(in_features=1536, out_features=384, bias=True)\n",
       "          (final_layer_norm): LayerNorm((384,), eps=1e-05, elementwise_affine=True)\n",
       "        )\n",
       "      )\n",
       "      (layer_norm): LayerNorm((384,), eps=1e-05, elementwise_affine=True)\n",
       "    )\n",
       "    (decoder): WhisperDecoder(\n",
       "      (embed_tokens): Embedding(51865, 384, padding_idx=50257)\n",
       "      (embed_positions): WhisperPositionalEmbedding(448, 384)\n",
       "      (layers): ModuleList(\n",
       "        (0-3): 4 x WhisperDecoderLayer(\n",
       "          (self_attn): WhisperSdpaAttention(\n",
       "            (k_proj): Linear(in_features=384, out_features=384, bias=False)\n",
       "            (v_proj): Linear(in_features=384, out_features=384, bias=True)\n",
       "            (q_proj): Linear(in_features=384, out_features=384, bias=True)\n",
       "            (out_proj): Linear(in_features=384, out_features=384, bias=True)\n",
       "          )\n",
       "          (activation_fn): GELUActivation()\n",
       "          (self_attn_layer_norm): LayerNorm((384,), eps=1e-05, elementwise_affine=True)\n",
       "          (encoder_attn): WhisperSdpaAttention(\n",
       "            (k_proj): Linear(in_features=384, out_features=384, bias=False)\n",
       "            (v_proj): Linear(in_features=384, out_features=384, bias=True)\n",
       "            (q_proj): Linear(in_features=384, out_features=384, bias=True)\n",
       "            (out_proj): Linear(in_features=384, out_features=384, bias=True)\n",
       "          )\n",
       "          (encoder_attn_layer_norm): LayerNorm((384,), eps=1e-05, elementwise_affine=True)\n",
       "          (fc1): Linear(in_features=384, out_features=1536, bias=True)\n",
       "          (fc2): Linear(in_features=1536, out_features=384, bias=True)\n",
       "          (final_layer_norm): LayerNorm((384,), eps=1e-05, elementwise_affine=True)\n",
       "        )\n",
       "      )\n",
       "      (layer_norm): LayerNorm((384,), eps=1e-05, elementwise_affine=True)\n",
       "    )\n",
       "  )\n",
       "  (proj_out): Linear(in_features=384, out_features=51865, bias=False)\n",
       ")"
      ]
     },
     "execution_count": 21,
     "metadata": {},
     "output_type": "execute_result"
    }
   ],
   "source": [
    "from transformers import AutoProcessor, AutoModelForSpeechSeq2Seq, pipeline\n",
    "from peft import PeftModel\n",
    "import torch\n",
    "\n",
    "base_model_name = \"openai/whisper-tiny\"\n",
    "fine_tuned_model_path = \"./whisper-hindi-lora-final\"\n",
    "\n",
    "model = AutoModelForSpeechSeq2Seq.from_pretrained(base_model_name, torch_dtype=torch.float32)\n",
    "\n",
    "model = PeftModel.from_pretrained(model, fine_tuned_model_path)\n",
    "model = model.merge_and_unload()\n",
    "\n",
    "processor = AutoProcessor.from_pretrained(base_model_name)\n",
    "device = torch.device(\"cpu\")\n",
    "model.to(device)\n"
   ]
  },
  {
   "cell_type": "markdown",
   "metadata": {},
   "source": [
    "Inference"
   ]
  },
  {
   "cell_type": "code",
   "execution_count": null,
   "metadata": {},
   "outputs": [
    {
     "data": {
      "application/vnd.jupyter.widget-view+json": {
       "model_id": "48e52d934e12495aa4c3de3d93e0307e",
       "version_major": 2,
       "version_minor": 0
      },
      "text/plain": [
       "Generating train split: 0 examples [00:00, ? examples/s]"
      ]
     },
     "metadata": {},
     "output_type": "display_data"
    },
    {
     "name": "stdout",
     "output_type": "stream",
     "text": [
      "Sample 1: क्यूंकी कई बार, आपके आने जानी कर आसता अलग होता है\n",
      "Sample 2: फर भी थूडी कोशिश करके, आपपने वर्चुआल असिस्टिण से ये काम ली सक्पे हैं\n",
      "Sample 3: आपकवृर्चुण सहयक, आपकिलिये टाईमर्सेट करने का काम्भी आस आनी से कर सक्तह है\n",
      "Sample 4: बस ब कुछ छोटे से बाक्कि मैं उसको बताना है, कि मेरिल ये एक घंटे का टाइमर सेट कर दो\n",
      "Sample 5: आप पने वर्चुअल साहयक से, किसी ख़ाहस दिन के लियब पूशाक चुनने में भीम मदद मांक सकते हैं\n"
     ]
    }
   ],
   "source": [
    "import torchaudio\n",
    "from torchaudio.transforms import Resample\n",
    "from datasets import load_dataset\n",
    "\n",
    "dataset_path = \"train-00006-of-00010.parquet\"\n",
    "dataset = load_dataset(\"parquet\", data_files=dataset_path)[\"train\"]\n",
    "\n",
    "num_samples = 5\n",
    "samples = dataset[:num_samples]\n",
    "\n",
    "target_sample_rate = 16000\n",
    "\n",
    "for i, audio in enumerate(samples[\"audio\"]):\n",
    "    waveform = torch.tensor(audio[\"array\"], dtype=torch.float32).unsqueeze(0)\n",
    "    sample_rate = audio[\"sampling_rate\"]\n",
    "\n",
    "    \n",
    "    if sample_rate != target_sample_rate:\n",
    "        resampler = Resample(orig_freq=sample_rate, new_freq=target_sample_rate)\n",
    "        waveform = resampler(waveform)\n",
    "\n",
    "    inputs = processor(waveform.numpy(), sampling_rate=target_sample_rate, return_tensors=\"pt\")\n",
    "\n",
    "    with torch.no_grad():\n",
    "        predicted_ids = model.generate(inputs[\"input_features\"].to(device))\n",
    "\n",
    "    transcription = processor.batch_decode(predicted_ids, skip_special_tokens=True)[0]\n",
    "\n",
    "    print(f\"Sample {i+1}: {transcription}\")\n"
   ]
  },
  {
   "cell_type": "markdown",
   "metadata": {},
   "source": [
    "Evaulation"
   ]
  },
  {
   "cell_type": "code",
   "execution_count": null,
   "metadata": {},
   "outputs": [
    {
     "name": "stdout",
     "output_type": "stream",
     "text": [
      "Sample 1:\n",
      "  - Ground Truth: प्रसिद्द कबीर अध्येता, पुरुषोत्तम अग्रवाल का यह शोध आलेख, उस रामानंद की खोज करता है\n",
      "  - Predicted: प्रसिद्ध कबीर अध्येता, पुरुषोत्तम अग्रवाल का यह शोध आलेख, उस रामानंद की खोज करता है\n",
      "  - WER: 0.0667\n",
      "  - CER: 0.0120\n",
      "\n",
      "Sample 2:\n",
      "  - Ground Truth: किन्तु आधुनिक पांडित्य, न सिर्फ़ एक ब्राह्मण रामानंद के, एक जुलाहे कबीर का गुरु होने से, बल्कि दोनों के समकालीन होने से भी, इनकार करता है\n",
      "  - Predicted: किन्तु आधुनिक पांडित्य, न सिर्फ़ एक ब्राम्मण रामानंद के, एक जुलाहे कबीर का गुरु होने से, बल्कि दोनों के समकालीन होने से भी, इनकार करता है\n",
      "  - WER: 0.0769\n",
      "  - CER: 0.0219\n",
      "\n",
      "Sample 3:\n",
      "  - Ground Truth: उस पर, इन चार कवियों का गहरा असर है\n",
      "  - Predicted: उस पर, इन चार कवियों का गहरा असर है\n",
      "  - WER: 0.0000\n",
      "  - CER: 0.0000\n",
      "\n",
      "Sample 4:\n",
      "  - Ground Truth: इसे कई बार मंचित भी किया गया है\n",
      "  - Predicted: इसे कई बार मंचित भी किया गया है\n",
      "  - WER: 0.0000\n",
      "  - CER: 0.0000\n",
      "\n",
      "Sample 5:\n",
      "  - Ground Truth: यहाँ प्रस्तुत है, हिन्दी कवि कथाकार, तेजी ग्रोवर के अंग्रेज़ी के मार्फ़त किए गए अनुवाद के, कुछ अंश\n",
      "  - Predicted: यहाँ प्रस्तुत है, हिन्दी कवि कथाकार, तेजी ग्रोवर के अंग्रेज़ी के मार्फ़त किए गए अनुवाद के, कुछ अंश\n",
      "  - WER: 0.0000\n",
      "  - CER: 0.0000\n",
      "\n",
      "Average WER: 0.0287\n",
      "Average CER: 0.0068\n"
     ]
    }
   ],
   "source": [
    "import torch\n",
    "import torchaudio\n",
    "from torchaudio.transforms import Resample\n",
    "from datasets import load_dataset\n",
    "from transformers import AutoProcessor\n",
    "from jiwer import wer, cer\n",
    "\n",
    "dataset_path = \"train-00000-of-00010.parquet\"  \n",
    "dataset = load_dataset(\"parquet\", data_files=dataset_path)[\"train\"]\n",
    "\n",
    "processor = AutoProcessor.from_pretrained(\"openai/whisper-tiny\")\n",
    "\n",
    "target_sample_rate = 16000\n",
    "\n",
    "num_samples = 5\n",
    "samples = dataset[:num_samples]\n",
    "\n",
    "wer_scores = []\n",
    "cer_scores = []\n",
    "\n",
    "for i, (audio, ground_truth) in enumerate(zip(samples[\"audio\"], samples[\"text\"])):\n",
    "    waveform = torch.tensor(audio[\"array\"], dtype=torch.float32).unsqueeze(0)\n",
    "    sample_rate = audio[\"sampling_rate\"]\n",
    "\n",
    "    if sample_rate != target_sample_rate:\n",
    "        resampler = Resample(orig_freq=sample_rate, new_freq=target_sample_rate)\n",
    "        waveform = resampler(waveform)\n",
    "\n",
    "    inputs = processor(waveform.numpy(), sampling_rate=target_sample_rate, return_tensors=\"pt\")\n",
    "\n",
    "    with torch.no_grad():\n",
    "        predicted_ids = model.generate(inputs[\"input_features\"].to(\"cpu\"))  # Ensure on CPU\n",
    "\n",
    "    predicted_text = processor.batch_decode(predicted_ids, skip_special_tokens=True)[0]\n",
    "\n",
    "    sample_wer = wer(ground_truth, predicted_text)\n",
    "    sample_cer = cer(ground_truth, predicted_text)\n",
    "\n",
    "    wer_scores.append(sample_wer)\n",
    "    cer_scores.append(sample_cer)\n",
    "\n",
    "    print(f\"Sample {i+1}:\")\n",
    "    print(f\"  - Ground Truth: {ground_truth}\")\n",
    "    print(f\"  - Predicted: {predicted_text}\")\n",
    "    print(f\"  - WER: {sample_wer:.4f}\")\n",
    "    print(f\"  - CER: {sample_cer:.4f}\\n\")\n",
    "\n",
    "avg_wer = sum(wer_scores) / num_samples\n",
    "avg_cer = sum(cer_scores) / num_samples\n",
    "\n",
    "print(f\"Average WER: {avg_wer:.4f}\")\n",
    "print(f\"Average CER: {avg_cer:.4f}\")\n"
   ]
  },
  {
   "cell_type": "code",
   "execution_count": 1,
   "metadata": {},
   "outputs": [
    {
     "name": "stdout",
     "output_type": "stream",
     "text": [
      "LoRA Adapter Size on Disk: 2.26 MB\n"
     ]
    }
   ],
   "source": [
    "import os\n",
    "\n",
    "def get_folder_size(path):\n",
    "    total = 0\n",
    "    for dirpath, dirnames, filenames in os.walk(path):\n",
    "        for f in filenames:\n",
    "            fp = os.path.join(dirpath, f)\n",
    "            total += os.path.getsize(fp)\n",
    "    return total / (1024 ** 2)  # in MB\n",
    "\n",
    "lora_path = \"./whisper-hindi-lora-final\"\n",
    "lora_size = get_folder_size(lora_path)\n",
    "print(f\"LoRA Adapter Size on Disk: {lora_size:.2f} MB\")\n"
   ]
  },
  {
   "cell_type": "code",
   "execution_count": null,
   "metadata": {},
   "outputs": [
    {
     "name": "stderr",
     "output_type": "stream",
     "text": [
      "The installed version of bitsandbytes was compiled without GPU support. 8-bit optimizers, 8-bit multiplication, and GPU quantization are unavailable.\n",
      "C:\\Users\\delso\\AppData\\Local\\Packages\\PythonSoftwareFoundation.Python.3.11_qbz5n2kfra8p0\\LocalCache\\local-packages\\Python311\\site-packages\\transformers\\modeling_utils.py:2810: UserWarning: Moving the following attributes in the config to the generation config: {'max_length': 448, 'suppress_tokens': [1, 2, 7, 8, 9, 10, 14, 25, 26, 27, 28, 29, 31, 58, 59, 60, 61, 62, 63, 90, 91, 92, 93, 359, 503, 522, 542, 873, 893, 902, 918, 922, 931, 1350, 1853, 1982, 2460, 2627, 3246, 3253, 3268, 3536, 3846, 3961, 4183, 4667, 6585, 6647, 7273, 9061, 9383, 10428, 10929, 11938, 12033, 12331, 12562, 13793, 14157, 14635, 15265, 15618, 16553, 16604, 18362, 18956, 20075, 21675, 22520, 26130, 26161, 26435, 28279, 29464, 31650, 32302, 32470, 36865, 42863, 47425, 49870, 50254, 50258, 50358, 50359, 50360, 50361, 50362], 'begin_suppress_tokens': [220, 50257]}. You are seeing this warning because you've set generation parameters in the model config, as opposed to in the generation config.\n",
      "  warnings.warn(\n"
     ]
    },
    {
     "name": "stdout",
     "output_type": "stream",
     "text": [
      "Merged Model Size on Disk: 144.07 MB\n"
     ]
    }
   ],
   "source": [
    "from transformers import AutoProcessor, AutoModelForSpeechSeq2Seq\n",
    "from peft import PeftModel\n",
    "import torch\n",
    "import os\n",
    "\n",
    "base_model_name = \"openai/whisper-tiny\"\n",
    "fine_tuned_model_path = \"./whisper-hindi-lora-final\"\n",
    "\n",
    "model = AutoModelForSpeechSeq2Seq.from_pretrained(base_model_name, torch_dtype=torch.float32)\n",
    "model = PeftModel.from_pretrained(model, fine_tuned_model_path)\n",
    "model = model.merge_and_unload()\n",
    "\n",
    "merged_path = \"./merged-whisper-hindi\"\n",
    "model.save_pretrained(merged_path)\n",
    "\n",
    "merged_size = get_folder_size(merged_path)\n",
    "print(f\"Merged Model Size on Disk: {merged_size:.2f} MB\")\n"
   ]
  },
  {
   "cell_type": "code",
   "execution_count": null,
   "metadata": {},
   "outputs": [
    {
     "data": {
      "text/plain": [
       "[]"
      ]
     },
     "execution_count": 4,
     "metadata": {},
     "output_type": "execute_result"
    }
   ],
   "source": [
    "from transformers import AutoProcessor\n",
    "processor = AutoProcessor.from_pretrained(\"openai/whisper-tiny\")\n",
    "processor.save_pretrained(\"./merged-whisper-hindi\")\n"
   ]
  },
  {
   "cell_type": "code",
   "execution_count": null,
   "metadata": {},
   "outputs": [
    {
     "name": "stderr",
     "output_type": "stream",
     "text": [
      "Due to a bug fix in https://github.com/huggingface/transformers/pull/28687 transcription using a multilingual Whisper will default to language detection followed by transcription instead of translation to English.This might be a breaking change for your use case. If you want to instead always translate your audio to English, make sure to pass `language='en'`.\n",
      "The attention mask is not set and cannot be inferred from input because pad token is same as eos token. As a consequence, you may observe unexpected behavior. Please pass your input's `attention_mask` to obtain reliable results.\n"
     ]
    },
    {
     "name": "stdout",
     "output_type": "stream",
     "text": [
      "Sample 1:\n",
      "  - Ground Truth: प्रसिद्द कबीर अध्येता, पुरुषोत्तम अग्रवाल का यह शोध आलेख, उस रामानंद की खोज करता है\n",
      "  - Predicted:    प्रसिद्ध कबीर अध्येता, पुरुषोत्तम अग्रवाल का यह शोध आलेख, उस रामानंद की खोज करता है\n",
      "  - WER: 0.0667\n",
      "  - CER: 0.0120\n",
      "\n",
      "Sample 2:\n",
      "  - Ground Truth: किन्तु आधुनिक पांडित्य, न सिर्फ़ एक ब्राह्मण रामानंद के, एक जुलाहे कबीर का गुरु होने से, बल्कि दोनों के समकालीन होने से भी, इनकार करता है\n",
      "  - Predicted:    किन्तु आधुनिक पांडित्य, न सिर्फ़ एक ब्राम्मण रामानंद के, एक जुलाहे कबीर का गुरु होने से, बल्कि दोनों के समकालीन होने से भी, इनकार करता है\n",
      "  - WER: 0.0769\n",
      "  - CER: 0.0219\n",
      "\n",
      "Sample 3:\n",
      "  - Ground Truth: उस पर, इन चार कवियों का गहरा असर है\n",
      "  - Predicted:    उस पर, इन चार कवियों का गहरा असर है\n",
      "  - WER: 0.0000\n",
      "  - CER: 0.0000\n",
      "\n",
      "Sample 4:\n",
      "  - Ground Truth: इसे कई बार मंचित भी किया गया है\n",
      "  - Predicted:    इसे कई बार मंचित भी किया गया है\n",
      "  - WER: 0.0000\n",
      "  - CER: 0.0000\n",
      "\n",
      "Sample 5:\n",
      "  - Ground Truth: यहाँ प्रस्तुत है, हिन्दी कवि कथाकार, तेजी ग्रोवर के अंग्रेज़ी के मार्फ़त किए गए अनुवाद के, कुछ अंश\n",
      "  - Predicted:    यहाँ प्रस्तुत है, हिन्दी कवि कथाकार, तेजी ग्रोवर के अंग्रेज़ी के मार्फ़त किए गए अनुवाद के, कुछ अंश\n",
      "  - WER: 0.0000\n",
      "  - CER: 0.0000\n",
      "\n",
      "Average WER: 0.0287\n",
      "Average CER: 0.0068\n"
     ]
    }
   ],
   "source": [
    "import torch\n",
    "import torchaudio\n",
    "from torchaudio.transforms import Resample\n",
    "from datasets import load_dataset\n",
    "from transformers import AutoProcessor, AutoModelForSpeechSeq2Seq\n",
    "from jiwer import wer, cer\n",
    "\n",
    "dataset_path = \"train-00000-of-00010.parquet\"  \n",
    "dataset = load_dataset(\"parquet\", data_files=dataset_path)[\"train\"]\n",
    "\n",
    "merged_model_path = \"./merged-whisper-hindi\"\n",
    "model = AutoModelForSpeechSeq2Seq.from_pretrained(merged_model_path)\n",
    "processor = AutoProcessor.from_pretrained(merged_model_path)\n",
    "\n",
    "device = torch.device(\"cpu\")\n",
    "model.to(device)\n",
    "\n",
    "target_sample_rate = 16000\n",
    "num_samples = 5\n",
    "samples = dataset[:num_samples]\n",
    "\n",
    "wer_scores = []\n",
    "cer_scores = []\n",
    "\n",
    "for i, (audio, ground_truth) in enumerate(zip(samples[\"audio\"], samples[\"text\"])):\n",
    "    waveform = torch.tensor(audio[\"array\"], dtype=torch.float32).unsqueeze(0)\n",
    "    sample_rate = audio[\"sampling_rate\"]\n",
    "\n",
    "    if sample_rate != target_sample_rate:\n",
    "        resampler = Resample(orig_freq=sample_rate, new_freq=target_sample_rate)\n",
    "        waveform = resampler(waveform)\n",
    "\n",
    "    inputs = processor(waveform.numpy(), sampling_rate=target_sample_rate, return_tensors=\"pt\")\n",
    "\n",
    "    with torch.no_grad():\n",
    "        predicted_ids = model.generate(inputs[\"input_features\"].to(device))\n",
    "\n",
    "    predicted_text = processor.batch_decode(predicted_ids, skip_special_tokens=True)[0]\n",
    "\n",
    "    sample_wer = wer(ground_truth, predicted_text)\n",
    "    sample_cer = cer(ground_truth, predicted_text)\n",
    "\n",
    "    wer_scores.append(sample_wer)\n",
    "    cer_scores.append(sample_cer)\n",
    "\n",
    "    print(f\"Sample {i+1}:\")\n",
    "    print(f\"  - Ground Truth: {ground_truth}\")\n",
    "    print(f\"  - Predicted:    {predicted_text}\")\n",
    "    print(f\"  - WER: {sample_wer:.4f}\")\n",
    "    print(f\"  - CER: {sample_cer:.4f}\\n\")\n",
    "\n",
    "avg_wer = sum(wer_scores) / num_samples\n",
    "avg_cer = sum(cer_scores) / num_samples\n",
    "\n",
    "print(f\"Average WER: {avg_wer:.4f}\")\n",
    "print(f\"Average CER: {avg_cer:.4f}\")\n"
   ]
  },
  {
   "cell_type": "code",
   "execution_count": 5,
   "metadata": {},
   "outputs": [
    {
     "data": {
      "image/png": "[encoded data removed]",
      "text/plain": [
       "<Figure size 1400x800 with 2 Axes>"
      ]
     },
     "metadata": {},
     "output_type": "display_data"
    }
   ],
   "source": [
    "import matplotlib.pyplot as plt\n",
    "import numpy as np\n",
    "\n",
    "samples = [f\"Sample {i}\" for i in range(1, 6)]\n",
    "\n",
    "\n",
    "wer_after_full = [0.4000, 0.2308, 0.2222, 0.3750, 0.2778]\n",
    "cer_after_full = [0.0964, 0.0584, 0.0571, 0.1290, 0.0816]\n",
    "\n",
    "wer_after_lora = [0.0667, 0.0769, 0.0000, 0.0000, 0.0000]\n",
    "cer_after_lora = [0.0120, 0.0219, 0.0000, 0.0000, 0.0000]\n",
    "\n",
    "wer_after_qlora = [0.6667, 0.4231, 0.5556, 0.3750, 0.5556]\n",
    "cer_after_qlora = [0.1566, 0.1460, 0.1714, 0.1935, 0.1327]\n",
    "\n",
    "x = np.arange(len(samples))  # [0, 1, 2, 3, 4]\n",
    "width = 0.18\n",
    "\n",
    "fig, axs = plt.subplots(2, 1, figsize=(14, 8))\n",
    "plt.subplots_adjust(hspace=0.4)\n",
    "\n",
    "# --- WER Plot ---\n",
    "axs[0].bar(x - 0.5*width, wer_after_full, width, label='After Full Fine-tune', color='gold')\n",
    "axs[0].bar(x + 0.5*width, wer_after_lora, width, label='After LoRA Fine-tune', color='lightgreen')\n",
    "axs[0].bar(x + 1.5*width, wer_after_qlora, width, label='After QLoRA Fine-tune', color='skyblue')\n",
    "\n",
    "axs[0].set_ylabel('WER')\n",
    "axs[0].set_title('Sample-wise WER Comparison')\n",
    "axs[0].set_xticks(x)\n",
    "axs[0].set_xticklabels(samples)\n",
    "axs[0].legend()\n",
    "axs[0].grid(True, linestyle='--', alpha=0.5)\n",
    "\n",
    "# --- CER Plot ---\n",
    "\n",
    "axs[1].bar(x - 0.5*width, cer_after_full, width, label='After Full Fine-tune', color='gold')\n",
    "axs[1].bar(x + 0.5*width, cer_after_lora, width, label='After LoRA Fine-tune', color='lightgreen')\n",
    "axs[1].bar(x + 1.5*width, cer_after_qlora, width, label='After QLoRA Fine-tune', color='skyblue')\n",
    "\n",
    "axs[1].set_ylabel('CER')\n",
    "axs[1].set_title('Sample-wise CER Comparison')\n",
    "axs[1].set_xticks(x)\n",
    "axs[1].set_xticklabels(samples)\n",
    "axs[1].legend()\n",
    "axs[1].grid(True, linestyle='--', alpha=0.5)\n",
    "\n",
    "plt.tight_layout()\n",
    "plt.show()\n"
   ]
  },
  {
   "cell_type": "code",
   "execution_count": 2,
   "metadata": {},
   "outputs": [
    {
     "name": "stderr",
     "output_type": "stream",
     "text": [
      "Due to a bug fix in https://github.com/huggingface/transformers/pull/28687 transcription using a multilingual Whisper will default to language detection followed by transcription instead of translation to English.This might be a breaking change for your use case. If you want to instead always translate your audio to English, make sure to pass `language='en'`.\n",
      "The attention mask is not set and cannot be inferred from input because pad token is same as eos token. As a consequence, you may observe unexpected behavior. Please pass your input's `attention_mask` to obtain reliable results.\n"
     ]
    },
    {
     "name": "stdout",
     "output_type": "stream",
     "text": [
      "Sample 1:\n",
      "  - Ground Truth: क्योंकि कई बार, आपके आने-जाने का रास्ता अलग होता है.\n",
      "  - Predicted:    क्यूंकी कई बार, आपके आने जानी कर आसता अलग होता है\n",
      "  - WER: 0.6000\n",
      "  - CER: 0.1731\n",
      "\n",
      "Sample 2:\n",
      "  - Ground Truth: फिर भी थोड़ी कोशिश करके, आप अपने वर्चुअल असिस्टेंट से ये काम ले सकते हैं.\n",
      "  - Predicted:    फर भी थूडी कोशिश करके, आपपने वर्चुआल असिस्टिण से ये काम ली सक्पे हैं\n",
      "  - WER: 0.6000\n",
      "  - CER: 0.1781\n",
      "\n",
      "Sample 3:\n",
      "  - Ground Truth: आपका वर्चुअल सहायक, आपके लिए टाइमर सेट करने का काम भी आसानी से कर सकता है.\n",
      "  - Predicted:    आपकवृर्चुण सहयक, आपकिलिये टाईमर्सेट करने का काम्भी आस आनी से कर सक्तह है\n",
      "  - WER: 0.7500\n",
      "  - CER: 0.2432\n",
      "\n",
      "Sample 4:\n",
      "  - Ground Truth: बस आपको छोटे से वाक्य में उसको बताना है, कि मेरे लिए एक घंटे का टाइमर सेट कर दो.\n",
      "  - Predicted:    बस ब कुछ छोटे से बाक्कि मैं उसको बताना है, कि मेरिल ये एक घंटे का टाइमर सेट कर दो\n",
      "  - WER: 0.3684\n",
      "  - CER: 0.1750\n",
      "\n",
      "Sample 5:\n",
      "  - Ground Truth: आप अपने वर्चुअल सहायक से, किसी ख़ास दिन के लिए पोशाक चुनने में भी मदद मांग सकते हैं.\n",
      "  - Predicted:    आप पने वर्चुअल साहयक से, किसी ख़ाहस दिन के लियब पूशाक चुनने में भीम मदद मांक सकते हैं\n",
      "  - WER: 0.4444\n",
      "  - CER: 0.1190\n",
      "\n",
      "Average WER: 0.5526\n",
      "Average CER: 0.1777\n"
     ]
    }
   ],
   "source": [
    "import torch\n",
    "import torchaudio\n",
    "from torchaudio.transforms import Resample\n",
    "from datasets import load_dataset\n",
    "from transformers import AutoProcessor, AutoModelForSpeechSeq2Seq\n",
    "from jiwer import wer, cer\n",
    "\n",
    "dataset_path = \"train-00006-of-00010.parquet\"  \n",
    "dataset = load_dataset(\"parquet\", data_files=dataset_path)[\"train\"]\n",
    "\n",
    "merged_model_path = \"./merged-whisper-hindi\"\n",
    "model = AutoModelForSpeechSeq2Seq.from_pretrained(merged_model_path)\n",
    "processor = AutoProcessor.from_pretrained(merged_model_path)\n",
    "\n",
    "device = torch.device(\"cpu\")\n",
    "model.to(device)\n",
    "\n",
    "target_sample_rate = 16000\n",
    "num_samples = 5\n",
    "samples = dataset[:num_samples]\n",
    "\n",
    "wer_scores = []\n",
    "cer_scores = []\n",
    "\n",
    "for i, (audio, ground_truth) in enumerate(zip(samples[\"audio\"], samples[\"text\"])):\n",
    "    waveform = torch.tensor(audio[\"array\"], dtype=torch.float32).unsqueeze(0)\n",
    "    sample_rate = audio[\"sampling_rate\"]\n",
    "\n",
    "    if sample_rate != target_sample_rate:\n",
    "        resampler = Resample(orig_freq=sample_rate, new_freq=target_sample_rate)\n",
    "        waveform = resampler(waveform)\n",
    "\n",
    "    inputs = processor(waveform.numpy(), sampling_rate=target_sample_rate, return_tensors=\"pt\")\n",
    "\n",
    "    with torch.no_grad():\n",
    "        predicted_ids = model.generate(inputs[\"input_features\"].to(device))\n",
    "\n",
    "    predicted_text = processor.batch_decode(predicted_ids, skip_special_tokens=True)[0]\n",
    "\n",
    "    sample_wer = wer(ground_truth, predicted_text)\n",
    "    sample_cer = cer(ground_truth, predicted_text)\n",
    "\n",
    "    wer_scores.append(sample_wer)\n",
    "    cer_scores.append(sample_cer)\n",
    "\n",
    "    print(f\"Sample {i+1}:\")\n",
    "    print(f\"  - Ground Truth: {ground_truth}\")\n",
    "    print(f\"  - Predicted:    {predicted_text}\")\n",
    "    print(f\"  - WER: {sample_wer:.4f}\")\n",
    "    print(f\"  - CER: {sample_cer:.4f}\\n\")\n",
    "\n",
    "avg_wer = sum(wer_scores) / num_samples\n",
    "avg_cer = sum(cer_scores) / num_samples\n",
    "\n",
    "print(f\"Average WER: {avg_wer:.4f}\")\n",
    "print(f\"Average CER: {avg_cer:.4f}\")\n"
   ]
  },
  {
   "cell_type": "code",
   "execution_count": 3,
   "metadata": {},
   "outputs": [
    {
     "data": {
      "text/plain": [
       "'c:\\\\Users\\\\delso\\\\whisperlora\\\\whisper-hindi-lora-final.zip'"
      ]
     },
     "execution_count": 3,
     "metadata": {},
     "output_type": "execute_result"
    }
   ],
   "source": [
    "import shutil\n",
    "\n",
    "# Specify the directory and the zip file name\n",
    "model_dir = './whisper-hindi-lora-final'\n",
    "zip_filename = './whisper-hindi-lora-final.zip'\n",
    "\n",
    "# Create a zip file\n",
    "shutil.make_archive(zip_filename.replace('.zip', ''), 'zip', model_dir)\n"
   ]
  }
 ],
 "metadata": {
  "kernelspec": {
   "display_name": "whisper",
   "language": "python",
   "name": "whisper"
  },
  "language_info": {
   "codemirror_mode": {
    "name": "ipython",
    "version": 3
   },
   "file_extension": ".py",
   "mimetype": "text/x-python",
   "name": "python",
   "nbconvert_exporter": "python",
   "pygments_lexer": "ipython3",
   "version": "3.11.9"
  }
 },
 "nbformat": 4,
 "nbformat_minor": 2
}
